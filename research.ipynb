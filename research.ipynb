{
 "cells": [
  {
   "cell_type": "code",
   "execution_count": null,
   "id": "8f29d71c",
   "metadata": {},
   "outputs": [],
   "source": [
    "# standard libraries\n",
    "import pandas as pd\n",
    "import numpy as np\n",
    "\n",
    "# visualization libraries\n",
    "import matplotlib.pyplot as plt\n",
    "import seaborn as sns\n",
    "\n",
    "# tensorflow\n",
    "import tensorflow as tf\n",
    "import tensorflow_decision_forests as tfdf\n",
    "\n",
    "# scikit-learn\n",
    "from sklearn.model_selection import GridSearchCV\n",
    "from sklearn.svm import SVC\n",
    "from sklearn.linear_model import LogisticRegression\n",
    "from sklearn.metrics import accuracy_score, classification_report, confusion_matrix\n",
    "\n",
    "# Set custom styles for text color\n",
    "plt.rcParams['text.color'] = 'white'\n",
    "plt.rcParams['axes.labelcolor'] = 'white'\n",
    "plt.rcParams['axes.titlecolor'] = 'white'\n",
    "plt.rcParams['xtick.color'] = 'white'  # Color of the x-axis tick values\n",
    "plt.rcParams['ytick.color'] = 'white'  # Color of the y-axis tick values\n",
    "\n",
    "train = pd.read_csv('data/train.csv')\n",
    "test = pd.read_csv('data/test.csv')\n",
    "submission = pd.read_csv('data/sample_submission.csv')"
   ]
  },
  {
   "cell_type": "code",
   "execution_count": null,
   "id": "b2cbea49",
   "metadata": {},
   "outputs": [],
   "source": [
    "train.head()"
   ]
  },
  {
   "cell_type": "code",
   "execution_count": null,
   "id": "e53df2c8",
   "metadata": {},
   "outputs": [],
   "source": [
    "train.info()"
   ]
  },
  {
   "cell_type": "code",
   "execution_count": null,
   "id": "392bab8d",
   "metadata": {},
   "outputs": [],
   "source": [
    "test.head()"
   ]
  },
  {
   "cell_type": "code",
   "execution_count": null,
   "id": "a3501c15",
   "metadata": {},
   "outputs": [],
   "source": [
    "test.info()"
   ]
  },
  {
   "cell_type": "code",
   "execution_count": null,
   "id": "afdbbc5f",
   "metadata": {},
   "outputs": [],
   "source": [
    "submission.head()"
   ]
  },
  {
   "cell_type": "code",
   "execution_count": null,
   "id": "84c6644b",
   "metadata": {},
   "outputs": [],
   "source": [
    "submission.info()"
   ]
  },
  {
   "cell_type": "code",
   "execution_count": null,
   "id": "752674af",
   "metadata": {},
   "outputs": [],
   "source": [
    "target = train.columns.to_list()[-1]\n",
    "# convert target from bool to int\n",
    "train[target] = train[target].astype(int)\n",
    "train_target = train[target]"
   ]
  },
  {
   "cell_type": "code",
   "execution_count": null,
   "id": "ac10a641",
   "metadata": {},
   "outputs": [],
   "source": [
    "plt.figure(figsize=(8,4))\n",
    "sns.countplot(data = train, x = target, color='g')\n",
    "plt.title('Class distribution')\n",
    "plt.show()"
   ]
  },
  {
   "cell_type": "code",
   "execution_count": null,
   "id": "fc5d2507",
   "metadata": {},
   "outputs": [],
   "source": [
    "train.drop(target, axis=1, inplace=True)\n",
    "train_id = train['PassengerId']\n",
    "test_id = test['PassengerId']"
   ]
  },
  {
   "cell_type": "code",
   "execution_count": null,
   "id": "e0dc3007",
   "metadata": {},
   "outputs": [],
   "source": [
    "# combine over rows, keeping id for now as group number might be useful\n",
    "combined = pd.concat([train, test], axis = 0)"
   ]
  },
  {
   "cell_type": "markdown",
   "id": "b6c944f8",
   "metadata": {},
   "source": [
    "### Feature engineering"
   ]
  },
  {
   "cell_type": "code",
   "execution_count": null,
   "id": "681e26d6",
   "metadata": {},
   "outputs": [],
   "source": [
    "combined.info()"
   ]
  },
  {
   "cell_type": "code",
   "execution_count": null,
   "id": "e7ca193d",
   "metadata": {},
   "outputs": [],
   "source": [
    "combined"
   ]
  },
  {
   "cell_type": "code",
   "execution_count": null,
   "id": "201c9099",
   "metadata": {},
   "outputs": [],
   "source": [
    "combined['Group'] = combined['PassengerId'].str[:4]\n",
    "combined.drop('PassengerId', inplace=True, axis=1)"
   ]
  },
  {
   "cell_type": "code",
   "execution_count": null,
   "id": "8b81d50e",
   "metadata": {},
   "outputs": [],
   "source": [
    "# categorical columns first\n",
    "col_cat_NA = ['HomePlanet', 'CryoSleep', 'Cabin', 'Destination', 'VIP']\n",
    "\n",
    "# fill with Group first\n",
    "for col in col_cat_NA:\n",
    "    combined[col] = combined.groupby('Group')[col].transform(\n",
    "    lambda x: x.fillna(x.mode()[0] if not x.mode().empty else np.nan))\n",
    "    \n",
    "# need to do this, so we can use homeplanet to fill values for destination\n",
    "combined['HomePlanet'].fillna('', inplace=True)\n",
    "combined['Destination'] = combined.groupby('HomePlanet')['Destination'].transform(\n",
    "    lambda x: x.fillna(x.mode()[0]))\n",
    "# reverse what we did earlier\n",
    "combined['HomePlanet'].replace('', np.nan, inplace=True)\n",
    "\n",
    "# now fill homeplanet with destination\n",
    "combined['HomePlanet'] = combined.groupby('Destination')['HomePlanet'].transform(\n",
    "    lambda x: x.fillna(x.mode()[0]))\n",
    "\n",
    "combined['CryoSleep'] = combined.groupby('Destination')['CryoSleep'].transform(\n",
    "    lambda x: x.fillna(x.mode()[0]))\n",
    "combined['VIP'].fillna(False, inplace=True)"
   ]
  },
  {
   "cell_type": "code",
   "execution_count": null,
   "id": "fa23dbac",
   "metadata": {},
   "outputs": [],
   "source": [
    "# numerical columns now\n",
    "col_num_NA = ['RoomService', 'FoodCourt', 'ShoppingMall',\n",
    "             'Spa', 'VRDeck', 'Age']\n",
    "\n",
    "# fill with Group first\n",
    "for col in col_num_NA:\n",
    "    combined[col] = combined.groupby('Group')[col].transform(\n",
    "        lambda x: x.fillna(x.mean()))\n",
    "    \n",
    "# fill with destination now\n",
    "for col in col_num_NA:\n",
    "    combined[col] = combined.groupby('Destination')[col].transform(\n",
    "        lambda x: x.fillna(x.mean()))\n",
    "    \n",
    "# take log due to skewed distribution\n",
    "col_num_log = col_num_NA\n",
    "for col in col_num_log:\n",
    "    combined[col] = np.log1p(combined[col])\n",
    "    \n",
    "# adding new numerical features\n",
    "combined['TotalSpent'] = combined[['RoomService', 'FoodCourt', \n",
    "                                   'ShoppingMall','Spa', 'VRDeck']].sum(axis=1)\n",
    "\n",
    "# since the distribution is so skewed to 0s, this might help\n",
    "combined['moneySpent'] = (combined['TotalSpent']>0).astype(int)"
   ]
  },
  {
   "cell_type": "code",
   "execution_count": null,
   "id": "52d9bdf9",
   "metadata": {},
   "outputs": [],
   "source": [
    "# need to break cabin down, this is screwing it up when the entire cabin isn't available\n",
    "combined[['deck', 'cabin_num', 'side']] = combined['Cabin'].str.split('/', expand=True)\n",
    "\n",
    "combined.drop('Cabin', inplace=True, axis=1)\n",
    "\n",
    "col_cat_na = ['deck', 'cabin_num', 'side']\n",
    "\n",
    "for col in col_cat_na:\n",
    "    combined[col] = combined.groupby('Destination')[col].transform(\n",
    "        lambda x: x.fillna(x.mode()[0]))\n",
    "combined['cabin_num'] = combined['cabin_num'].astype(int)"
   ]
  },
  {
   "cell_type": "code",
   "execution_count": null,
   "id": "f86a564a",
   "metadata": {},
   "outputs": [],
   "source": [
    "#combined[['Name']].info()"
   ]
  },
  {
   "cell_type": "code",
   "execution_count": null,
   "id": "188cfd4f",
   "metadata": {},
   "outputs": [],
   "source": [
    "#combined['lastName'] = combined['Name'].str.split(' ', expand=True)[1]"
   ]
  },
  {
   "cell_type": "code",
   "execution_count": null,
   "id": "c3a296af",
   "metadata": {},
   "outputs": [],
   "source": [
    "# # next two statements don't do anything, I guess no mode values...\n",
    "# combined['lastName'] = combined.groupby('Group')['lastName'].transform(\n",
    "#     lambda x: x.fillna(x.mode() if not x.mode().empty else np.nan))\n",
    "\n",
    "# combined['lastName'] = combined.groupby('Destination')['lastName'].transform(\n",
    "#     lambda x: x.fillna(x.mode()))\n",
    "\n",
    "# combined['lastName'].fillna('lastName', inplace=True)"
   ]
  },
  {
   "cell_type": "code",
   "execution_count": null,
   "id": "63f1cc25",
   "metadata": {},
   "outputs": [],
   "source": [
    "# drop name\n",
    "combined.drop('Name', inplace=True, axis=1)"
   ]
  },
  {
   "cell_type": "code",
   "execution_count": null,
   "id": "f2fa1aa1",
   "metadata": {},
   "outputs": [],
   "source": [
    "combined['VIP'].unique()"
   ]
  },
  {
   "cell_type": "code",
   "execution_count": null,
   "id": "8913d33b",
   "metadata": {},
   "outputs": [],
   "source": [
    "col = 'TotalSpent'\n",
    "plt.figure(figsize=(12,8))\n",
    "sns.displot(data=combined, x=col, color='g', kde=True)\n",
    "plt.show()"
   ]
  },
  {
   "cell_type": "code",
   "execution_count": null,
   "id": "b84751ce",
   "metadata": {},
   "outputs": [],
   "source": [
    "col_bool = ['CryoSleep', 'VIP']\n",
    "\n",
    "# correct dtypes of boolean columns from object to bool then to int\n",
    "for col in col_bool:\n",
    "    combined[col] = combined[col].astype(bool).astype(int)"
   ]
  },
  {
   "cell_type": "code",
   "execution_count": null,
   "id": "967f5469",
   "metadata": {},
   "outputs": [],
   "source": [
    "combined.info()"
   ]
  },
  {
   "cell_type": "code",
   "execution_count": null,
   "id": "58df1721",
   "metadata": {},
   "outputs": [],
   "source": [
    "# one hot encoding\n",
    "combined = pd.get_dummies(combined, columns=['HomePlanet', 'Destination', 'deck', 'side'])\n",
    "\n",
    "# shouldn't be, but for now, let's...maybe this does make sense after all\n",
    "combined['Group'] = combined['Group'].astype('int')"
   ]
  },
  {
   "cell_type": "code",
   "execution_count": null,
   "id": "14f81999",
   "metadata": {},
   "outputs": [],
   "source": [
    "# change dtypes to int\n",
    "combined.iloc[:, -16:] = combined.iloc[:, -16:].astype(int)"
   ]
  },
  {
   "cell_type": "code",
   "execution_count": null,
   "id": "adfdd8d6",
   "metadata": {},
   "outputs": [],
   "source": [
    "combined.info()"
   ]
  },
  {
   "cell_type": "code",
   "execution_count": null,
   "id": "3f5e30d4",
   "metadata": {},
   "outputs": [],
   "source": [
    "# not even sure why do this\n",
    "#combined = pd.get_dummies(combined, columns=['lastName'])\n",
    "#combined.iloc[:, -2407:] = combined.iloc[:, -2407:].astype(int).info()\n",
    "#combined.info()"
   ]
  },
  {
   "cell_type": "markdown",
   "id": "019d3909",
   "metadata": {},
   "source": [
    "### Model design"
   ]
  },
  {
   "cell_type": "code",
   "execution_count": null,
   "id": "9e284b92",
   "metadata": {},
   "outputs": [],
   "source": [
    "train = combined.iloc[:train_id.shape[0]]\n",
    "test = combined.iloc[-test_id.shape[0]:]\n",
    "train[target] = train_target\n",
    "print('Train shape', train.shape)\n",
    "print('Test shape', test.shape)"
   ]
  },
  {
   "cell_type": "code",
   "execution_count": null,
   "id": "80e88cc2",
   "metadata": {},
   "outputs": [],
   "source": [
    "# let's split train data into train/test\n",
    "def train_test_split(data, test_ratio=0.3):\n",
    "    test_indices = np.random.rand(data.shape[0]) < test_ratio\n",
    "    return data[~test_indices], data[test_indices]\n",
    "train_data, test_data = train_test_split(train)\n",
    "print('{} samples in training, {} samples in testing data'.format(train_data.shape[0], \n",
    "                                                            test_data.shape[0]))"
   ]
  },
  {
   "cell_type": "code",
   "execution_count": null,
   "id": "65624cb6",
   "metadata": {},
   "outputs": [],
   "source": [
    "train_data"
   ]
  },
  {
   "cell_type": "code",
   "execution_count": null,
   "id": "2d10c029",
   "metadata": {
    "scrolled": false
   },
   "outputs": [],
   "source": [
    "train_data.info()"
   ]
  },
  {
   "cell_type": "markdown",
   "id": "6ff5f4b3",
   "metadata": {},
   "source": [
    "Model: Logistic Regression"
   ]
  },
  {
   "cell_type": "code",
   "execution_count": null,
   "id": "51507c28",
   "metadata": {},
   "outputs": [],
   "source": [
    "#lr = LogisticRegression(max_iter=10000)\n",
    "#lr.fit(train_data.iloc[:, :-1], train_data[target])"
   ]
  },
  {
   "cell_type": "code",
   "execution_count": null,
   "id": "f8baf1d0",
   "metadata": {},
   "outputs": [],
   "source": [
    "#prediction = lr.predict(test_data.iloc[:, :-1])"
   ]
  },
  {
   "cell_type": "code",
   "execution_count": null,
   "id": "bf772c0d",
   "metadata": {},
   "outputs": [],
   "source": [
    "#accuracy = accuracy_score(test_data[target], prediction)\n",
    "#print('Accuracy of {}'.format(accuracy))"
   ]
  },
  {
   "cell_type": "markdown",
   "id": "86beb750",
   "metadata": {},
   "source": [
    "Model: SVM (takes a while to run this though)"
   ]
  },
  {
   "cell_type": "code",
   "execution_count": null,
   "id": "95a2b284",
   "metadata": {},
   "outputs": [],
   "source": [
    "# param_grid = {\n",
    "#     'C': [0.1, 1, 10], # regularization parameter\n",
    "#     'kernel': ['linear', 'rbf'], # kernel type\n",
    "#     'gamma': [0.1, 1, 10] # kernel coefficient\n",
    "# }\n",
    "\n",
    "# svm = SVC()\n",
    "# grid_search = GridSearchCV(svm, param_grid, cv=5)\n",
    "# grid_search.fit(train_data.iloc[:, :-1], train_data[target])\n",
    "\n",
    "# grid_search.best_params_"
   ]
  },
  {
   "cell_type": "code",
   "execution_count": null,
   "id": "25f3977c",
   "metadata": {},
   "outputs": [],
   "source": []
  },
  {
   "cell_type": "markdown",
   "id": "60301781",
   "metadata": {},
   "source": [
    "Model: TFDF"
   ]
  },
  {
   "cell_type": "code",
   "execution_count": null,
   "id": "cd2396a5",
   "metadata": {},
   "outputs": [],
   "source": [
    "# convert these to tensorflow datasets\n",
    "train_data = tfdf.keras.pd_dataframe_to_tf_dataset(train_data, label=target)\n",
    "test_data = tfdf.keras.pd_dataframe_to_tf_dataset(test_data, label=target)"
   ]
  },
  {
   "cell_type": "code",
   "execution_count": null,
   "id": "cc88f343",
   "metadata": {},
   "outputs": [],
   "source": [
    "rf = tfdf.keras.RandomForestModel()\n",
    "rf.fit(train_data)"
   ]
  },
  {
   "cell_type": "code",
   "execution_count": null,
   "id": "fee19947",
   "metadata": {},
   "outputs": [],
   "source": [
    "rf.summary()"
   ]
  },
  {
   "cell_type": "code",
   "execution_count": null,
   "id": "a0754d8b",
   "metadata": {},
   "outputs": [],
   "source": [
    "rf.compile(metrics=['accuracy'])\n",
    "evaluation = rf.evaluate(test_data, return_dict=True)\n",
    "display(evaluation)"
   ]
  },
  {
   "cell_type": "code",
   "execution_count": null,
   "id": "a58ae7af",
   "metadata": {},
   "outputs": [],
   "source": [
    "# tfdf.model_plotter.plot_model_in_colab(rf, tree_idx=0, max_depth=3)"
   ]
  },
  {
   "cell_type": "code",
   "execution_count": null,
   "id": "43c1f93c",
   "metadata": {},
   "outputs": [],
   "source": [
    "# let's try bootstrapping here"
   ]
  },
  {
   "cell_type": "code",
   "execution_count": null,
   "id": "30ded4a4",
   "metadata": {},
   "outputs": [],
   "source": [
    "# bs_train = []\n",
    "# for i in range(100):\n",
    "#     sample = train.sample(frac=0.3)\n",
    "#     bs_train.append(sample)\n",
    "    \n",
    "# bs_train = pd.concat(bs_train, axis=0)\n",
    "# train = bs_train"
   ]
  },
  {
   "cell_type": "code",
   "execution_count": null,
   "id": "71a6af59",
   "metadata": {},
   "outputs": [],
   "source": [
    "# prior to prediction, let's train the model on entire train data\n",
    "train = tfdf.keras.pd_dataframe_to_tf_dataset(train, label=target)\n",
    "\n",
    "rf = tfdf.keras.RandomForestModel()\n",
    "rf.fit(train)"
   ]
  },
  {
   "cell_type": "code",
   "execution_count": null,
   "id": "1b7d8923",
   "metadata": {},
   "outputs": [],
   "source": [
    "rf.summary()"
   ]
  },
  {
   "cell_type": "markdown",
   "id": "5a452e6a",
   "metadata": {},
   "source": [
    "Prediction"
   ]
  },
  {
   "cell_type": "code",
   "execution_count": null,
   "id": "2bc3f006",
   "metadata": {},
   "outputs": [],
   "source": [
    "test = tfdf.keras.pd_dataframe_to_tf_dataset(test)\n",
    "predictions = rf.predict(test)\n",
    "output = pd.DataFrame({'PassengerId': test_id, 'Transported': predictions.squeeze()})\n",
    "# convert to boolean\n",
    "output[target] = (output[target] >= 0.5)"
   ]
  },
  {
   "cell_type": "code",
   "execution_count": null,
   "id": "c85c175b",
   "metadata": {},
   "outputs": [],
   "source": [
    "output.info()"
   ]
  },
  {
   "cell_type": "code",
   "execution_count": null,
   "id": "95131002",
   "metadata": {},
   "outputs": [],
   "source": [
    "output.to_csv('data/sample_submission.csv', index=False)"
   ]
  },
  {
   "cell_type": "code",
   "execution_count": null,
   "id": "ee6e93f1",
   "metadata": {},
   "outputs": [],
   "source": []
  }
 ],
 "metadata": {
  "kernelspec": {
   "display_name": "Python 3 (ipykernel)",
   "language": "python",
   "name": "python3"
  },
  "language_info": {
   "codemirror_mode": {
    "name": "ipython",
    "version": 3
   },
   "file_extension": ".py",
   "mimetype": "text/x-python",
   "name": "python",
   "nbconvert_exporter": "python",
   "pygments_lexer": "ipython3",
   "version": "3.9.6"
  }
 },
 "nbformat": 4,
 "nbformat_minor": 5
}
