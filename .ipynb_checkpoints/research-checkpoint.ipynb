{
 "cells": [
  {
   "cell_type": "code",
   "execution_count": 1,
   "id": "8f29d71c",
   "metadata": {},
   "outputs": [
    {
     "name": "stderr",
     "output_type": "stream",
     "text": [
      "2023-10-07 16:45:04.222603: I tensorflow/core/platform/cpu_feature_guard.cc:182] This TensorFlow binary is optimized to use available CPU instructions in performance-critical operations.\n",
      "To enable the following instructions: AVX2 FMA, in other operations, rebuild TensorFlow with the appropriate compiler flags.\n"
     ]
    }
   ],
   "source": [
    "# standard libraries\n",
    "import pandas as pd\n",
    "import numpy as np\n",
    "import time\n",
    "\n",
    "# visualization libraries\n",
    "import matplotlib.pyplot as plt\n",
    "import seaborn as sns\n",
    "\n",
    "# tensorflow\n",
    "import tensorflow as tf\n",
    "import tensorflow_decision_forests as tfdf\n",
    "from tensorflow import keras\n",
    "\n",
    "# scikit-learn\n",
    "from sklearn.model_selection import GridSearchCV\n",
    "from sklearn.svm import SVC\n",
    "from sklearn.linear_model import LogisticRegression\n",
    "from sklearn.metrics import accuracy_score, classification_report, confusion_matrix\n",
    "\n",
    "import optuna\n",
    "\n",
    "pd.set_option('display.max_columns', None)\n",
    "\n",
    "# Set custom styles for text color\n",
    "plt.rcParams['text.color'] = 'white'\n",
    "plt.rcParams['axes.labelcolor'] = 'white'\n",
    "plt.rcParams['axes.titlecolor'] = 'white'\n",
    "plt.rcParams['xtick.color'] = 'white'  # Color of the x-axis tick values\n",
    "plt.rcParams['ytick.color'] = 'white'  # Color of the y-axis tick values\n",
    "\n",
    "train = pd.read_csv('data/train.csv')\n",
    "test = pd.read_csv('data/test.csv')\n",
    "submission = pd.read_csv('data/sample_submission.csv')"
   ]
  },
  {
   "cell_type": "code",
   "execution_count": 2,
   "id": "b2cbea49",
   "metadata": {},
   "outputs": [
    {
     "data": {
      "text/html": [
       "<div>\n",
       "<style scoped>\n",
       "    .dataframe tbody tr th:only-of-type {\n",
       "        vertical-align: middle;\n",
       "    }\n",
       "\n",
       "    .dataframe tbody tr th {\n",
       "        vertical-align: top;\n",
       "    }\n",
       "\n",
       "    .dataframe thead th {\n",
       "        text-align: right;\n",
       "    }\n",
       "</style>\n",
       "<table border=\"1\" class=\"dataframe\">\n",
       "  <thead>\n",
       "    <tr style=\"text-align: right;\">\n",
       "      <th></th>\n",
       "      <th>PassengerId</th>\n",
       "      <th>HomePlanet</th>\n",
       "      <th>CryoSleep</th>\n",
       "      <th>Cabin</th>\n",
       "      <th>Destination</th>\n",
       "      <th>Age</th>\n",
       "      <th>VIP</th>\n",
       "      <th>RoomService</th>\n",
       "      <th>FoodCourt</th>\n",
       "      <th>ShoppingMall</th>\n",
       "      <th>Spa</th>\n",
       "      <th>VRDeck</th>\n",
       "      <th>Name</th>\n",
       "      <th>Transported</th>\n",
       "    </tr>\n",
       "  </thead>\n",
       "  <tbody>\n",
       "    <tr>\n",
       "      <th>0</th>\n",
       "      <td>0001_01</td>\n",
       "      <td>Europa</td>\n",
       "      <td>False</td>\n",
       "      <td>B/0/P</td>\n",
       "      <td>TRAPPIST-1e</td>\n",
       "      <td>39.0</td>\n",
       "      <td>False</td>\n",
       "      <td>0.0</td>\n",
       "      <td>0.0</td>\n",
       "      <td>0.0</td>\n",
       "      <td>0.0</td>\n",
       "      <td>0.0</td>\n",
       "      <td>Maham Ofracculy</td>\n",
       "      <td>False</td>\n",
       "    </tr>\n",
       "    <tr>\n",
       "      <th>1</th>\n",
       "      <td>0002_01</td>\n",
       "      <td>Earth</td>\n",
       "      <td>False</td>\n",
       "      <td>F/0/S</td>\n",
       "      <td>TRAPPIST-1e</td>\n",
       "      <td>24.0</td>\n",
       "      <td>False</td>\n",
       "      <td>109.0</td>\n",
       "      <td>9.0</td>\n",
       "      <td>25.0</td>\n",
       "      <td>549.0</td>\n",
       "      <td>44.0</td>\n",
       "      <td>Juanna Vines</td>\n",
       "      <td>True</td>\n",
       "    </tr>\n",
       "    <tr>\n",
       "      <th>2</th>\n",
       "      <td>0003_01</td>\n",
       "      <td>Europa</td>\n",
       "      <td>False</td>\n",
       "      <td>A/0/S</td>\n",
       "      <td>TRAPPIST-1e</td>\n",
       "      <td>58.0</td>\n",
       "      <td>True</td>\n",
       "      <td>43.0</td>\n",
       "      <td>3576.0</td>\n",
       "      <td>0.0</td>\n",
       "      <td>6715.0</td>\n",
       "      <td>49.0</td>\n",
       "      <td>Altark Susent</td>\n",
       "      <td>False</td>\n",
       "    </tr>\n",
       "    <tr>\n",
       "      <th>3</th>\n",
       "      <td>0003_02</td>\n",
       "      <td>Europa</td>\n",
       "      <td>False</td>\n",
       "      <td>A/0/S</td>\n",
       "      <td>TRAPPIST-1e</td>\n",
       "      <td>33.0</td>\n",
       "      <td>False</td>\n",
       "      <td>0.0</td>\n",
       "      <td>1283.0</td>\n",
       "      <td>371.0</td>\n",
       "      <td>3329.0</td>\n",
       "      <td>193.0</td>\n",
       "      <td>Solam Susent</td>\n",
       "      <td>False</td>\n",
       "    </tr>\n",
       "    <tr>\n",
       "      <th>4</th>\n",
       "      <td>0004_01</td>\n",
       "      <td>Earth</td>\n",
       "      <td>False</td>\n",
       "      <td>F/1/S</td>\n",
       "      <td>TRAPPIST-1e</td>\n",
       "      <td>16.0</td>\n",
       "      <td>False</td>\n",
       "      <td>303.0</td>\n",
       "      <td>70.0</td>\n",
       "      <td>151.0</td>\n",
       "      <td>565.0</td>\n",
       "      <td>2.0</td>\n",
       "      <td>Willy Santantines</td>\n",
       "      <td>True</td>\n",
       "    </tr>\n",
       "  </tbody>\n",
       "</table>\n",
       "</div>"
      ],
      "text/plain": [
       "  PassengerId HomePlanet CryoSleep  Cabin  Destination   Age    VIP  \\\n",
       "0     0001_01     Europa     False  B/0/P  TRAPPIST-1e  39.0  False   \n",
       "1     0002_01      Earth     False  F/0/S  TRAPPIST-1e  24.0  False   \n",
       "2     0003_01     Europa     False  A/0/S  TRAPPIST-1e  58.0   True   \n",
       "3     0003_02     Europa     False  A/0/S  TRAPPIST-1e  33.0  False   \n",
       "4     0004_01      Earth     False  F/1/S  TRAPPIST-1e  16.0  False   \n",
       "\n",
       "   RoomService  FoodCourt  ShoppingMall     Spa  VRDeck               Name  \\\n",
       "0          0.0        0.0           0.0     0.0     0.0    Maham Ofracculy   \n",
       "1        109.0        9.0          25.0   549.0    44.0       Juanna Vines   \n",
       "2         43.0     3576.0           0.0  6715.0    49.0      Altark Susent   \n",
       "3          0.0     1283.0         371.0  3329.0   193.0       Solam Susent   \n",
       "4        303.0       70.0         151.0   565.0     2.0  Willy Santantines   \n",
       "\n",
       "   Transported  \n",
       "0        False  \n",
       "1         True  \n",
       "2        False  \n",
       "3        False  \n",
       "4         True  "
      ]
     },
     "execution_count": 2,
     "metadata": {},
     "output_type": "execute_result"
    }
   ],
   "source": [
    "train.head()"
   ]
  },
  {
   "cell_type": "code",
   "execution_count": 3,
   "id": "e53df2c8",
   "metadata": {},
   "outputs": [
    {
     "name": "stdout",
     "output_type": "stream",
     "text": [
      "<class 'pandas.core.frame.DataFrame'>\n",
      "RangeIndex: 8693 entries, 0 to 8692\n",
      "Data columns (total 14 columns):\n",
      " #   Column        Non-Null Count  Dtype  \n",
      "---  ------        --------------  -----  \n",
      " 0   PassengerId   8693 non-null   object \n",
      " 1   HomePlanet    8492 non-null   object \n",
      " 2   CryoSleep     8476 non-null   object \n",
      " 3   Cabin         8494 non-null   object \n",
      " 4   Destination   8511 non-null   object \n",
      " 5   Age           8514 non-null   float64\n",
      " 6   VIP           8490 non-null   object \n",
      " 7   RoomService   8512 non-null   float64\n",
      " 8   FoodCourt     8510 non-null   float64\n",
      " 9   ShoppingMall  8485 non-null   float64\n",
      " 10  Spa           8510 non-null   float64\n",
      " 11  VRDeck        8505 non-null   float64\n",
      " 12  Name          8493 non-null   object \n",
      " 13  Transported   8693 non-null   bool   \n",
      "dtypes: bool(1), float64(6), object(7)\n",
      "memory usage: 891.5+ KB\n"
     ]
    }
   ],
   "source": [
    "train.info()"
   ]
  },
  {
   "cell_type": "code",
   "execution_count": 4,
   "id": "392bab8d",
   "metadata": {},
   "outputs": [
    {
     "data": {
      "text/html": [
       "<div>\n",
       "<style scoped>\n",
       "    .dataframe tbody tr th:only-of-type {\n",
       "        vertical-align: middle;\n",
       "    }\n",
       "\n",
       "    .dataframe tbody tr th {\n",
       "        vertical-align: top;\n",
       "    }\n",
       "\n",
       "    .dataframe thead th {\n",
       "        text-align: right;\n",
       "    }\n",
       "</style>\n",
       "<table border=\"1\" class=\"dataframe\">\n",
       "  <thead>\n",
       "    <tr style=\"text-align: right;\">\n",
       "      <th></th>\n",
       "      <th>PassengerId</th>\n",
       "      <th>HomePlanet</th>\n",
       "      <th>CryoSleep</th>\n",
       "      <th>Cabin</th>\n",
       "      <th>Destination</th>\n",
       "      <th>Age</th>\n",
       "      <th>VIP</th>\n",
       "      <th>RoomService</th>\n",
       "      <th>FoodCourt</th>\n",
       "      <th>ShoppingMall</th>\n",
       "      <th>Spa</th>\n",
       "      <th>VRDeck</th>\n",
       "      <th>Name</th>\n",
       "    </tr>\n",
       "  </thead>\n",
       "  <tbody>\n",
       "    <tr>\n",
       "      <th>0</th>\n",
       "      <td>0013_01</td>\n",
       "      <td>Earth</td>\n",
       "      <td>True</td>\n",
       "      <td>G/3/S</td>\n",
       "      <td>TRAPPIST-1e</td>\n",
       "      <td>27.0</td>\n",
       "      <td>False</td>\n",
       "      <td>0.0</td>\n",
       "      <td>0.0</td>\n",
       "      <td>0.0</td>\n",
       "      <td>0.0</td>\n",
       "      <td>0.0</td>\n",
       "      <td>Nelly Carsoning</td>\n",
       "    </tr>\n",
       "    <tr>\n",
       "      <th>1</th>\n",
       "      <td>0018_01</td>\n",
       "      <td>Earth</td>\n",
       "      <td>False</td>\n",
       "      <td>F/4/S</td>\n",
       "      <td>TRAPPIST-1e</td>\n",
       "      <td>19.0</td>\n",
       "      <td>False</td>\n",
       "      <td>0.0</td>\n",
       "      <td>9.0</td>\n",
       "      <td>0.0</td>\n",
       "      <td>2823.0</td>\n",
       "      <td>0.0</td>\n",
       "      <td>Lerome Peckers</td>\n",
       "    </tr>\n",
       "    <tr>\n",
       "      <th>2</th>\n",
       "      <td>0019_01</td>\n",
       "      <td>Europa</td>\n",
       "      <td>True</td>\n",
       "      <td>C/0/S</td>\n",
       "      <td>55 Cancri e</td>\n",
       "      <td>31.0</td>\n",
       "      <td>False</td>\n",
       "      <td>0.0</td>\n",
       "      <td>0.0</td>\n",
       "      <td>0.0</td>\n",
       "      <td>0.0</td>\n",
       "      <td>0.0</td>\n",
       "      <td>Sabih Unhearfus</td>\n",
       "    </tr>\n",
       "    <tr>\n",
       "      <th>3</th>\n",
       "      <td>0021_01</td>\n",
       "      <td>Europa</td>\n",
       "      <td>False</td>\n",
       "      <td>C/1/S</td>\n",
       "      <td>TRAPPIST-1e</td>\n",
       "      <td>38.0</td>\n",
       "      <td>False</td>\n",
       "      <td>0.0</td>\n",
       "      <td>6652.0</td>\n",
       "      <td>0.0</td>\n",
       "      <td>181.0</td>\n",
       "      <td>585.0</td>\n",
       "      <td>Meratz Caltilter</td>\n",
       "    </tr>\n",
       "    <tr>\n",
       "      <th>4</th>\n",
       "      <td>0023_01</td>\n",
       "      <td>Earth</td>\n",
       "      <td>False</td>\n",
       "      <td>F/5/S</td>\n",
       "      <td>TRAPPIST-1e</td>\n",
       "      <td>20.0</td>\n",
       "      <td>False</td>\n",
       "      <td>10.0</td>\n",
       "      <td>0.0</td>\n",
       "      <td>635.0</td>\n",
       "      <td>0.0</td>\n",
       "      <td>0.0</td>\n",
       "      <td>Brence Harperez</td>\n",
       "    </tr>\n",
       "  </tbody>\n",
       "</table>\n",
       "</div>"
      ],
      "text/plain": [
       "  PassengerId HomePlanet CryoSleep  Cabin  Destination   Age    VIP  \\\n",
       "0     0013_01      Earth      True  G/3/S  TRAPPIST-1e  27.0  False   \n",
       "1     0018_01      Earth     False  F/4/S  TRAPPIST-1e  19.0  False   \n",
       "2     0019_01     Europa      True  C/0/S  55 Cancri e  31.0  False   \n",
       "3     0021_01     Europa     False  C/1/S  TRAPPIST-1e  38.0  False   \n",
       "4     0023_01      Earth     False  F/5/S  TRAPPIST-1e  20.0  False   \n",
       "\n",
       "   RoomService  FoodCourt  ShoppingMall     Spa  VRDeck              Name  \n",
       "0          0.0        0.0           0.0     0.0     0.0   Nelly Carsoning  \n",
       "1          0.0        9.0           0.0  2823.0     0.0    Lerome Peckers  \n",
       "2          0.0        0.0           0.0     0.0     0.0   Sabih Unhearfus  \n",
       "3          0.0     6652.0           0.0   181.0   585.0  Meratz Caltilter  \n",
       "4         10.0        0.0         635.0     0.0     0.0   Brence Harperez  "
      ]
     },
     "execution_count": 4,
     "metadata": {},
     "output_type": "execute_result"
    }
   ],
   "source": [
    "test.head()"
   ]
  },
  {
   "cell_type": "code",
   "execution_count": 5,
   "id": "a3501c15",
   "metadata": {},
   "outputs": [
    {
     "name": "stdout",
     "output_type": "stream",
     "text": [
      "<class 'pandas.core.frame.DataFrame'>\n",
      "RangeIndex: 4277 entries, 0 to 4276\n",
      "Data columns (total 13 columns):\n",
      " #   Column        Non-Null Count  Dtype  \n",
      "---  ------        --------------  -----  \n",
      " 0   PassengerId   4277 non-null   object \n",
      " 1   HomePlanet    4190 non-null   object \n",
      " 2   CryoSleep     4184 non-null   object \n",
      " 3   Cabin         4177 non-null   object \n",
      " 4   Destination   4185 non-null   object \n",
      " 5   Age           4186 non-null   float64\n",
      " 6   VIP           4184 non-null   object \n",
      " 7   RoomService   4195 non-null   float64\n",
      " 8   FoodCourt     4171 non-null   float64\n",
      " 9   ShoppingMall  4179 non-null   float64\n",
      " 10  Spa           4176 non-null   float64\n",
      " 11  VRDeck        4197 non-null   float64\n",
      " 12  Name          4183 non-null   object \n",
      "dtypes: float64(6), object(7)\n",
      "memory usage: 434.5+ KB\n"
     ]
    }
   ],
   "source": [
    "test.info()"
   ]
  },
  {
   "cell_type": "code",
   "execution_count": 6,
   "id": "afdbbc5f",
   "metadata": {},
   "outputs": [
    {
     "data": {
      "text/html": [
       "<div>\n",
       "<style scoped>\n",
       "    .dataframe tbody tr th:only-of-type {\n",
       "        vertical-align: middle;\n",
       "    }\n",
       "\n",
       "    .dataframe tbody tr th {\n",
       "        vertical-align: top;\n",
       "    }\n",
       "\n",
       "    .dataframe thead th {\n",
       "        text-align: right;\n",
       "    }\n",
       "</style>\n",
       "<table border=\"1\" class=\"dataframe\">\n",
       "  <thead>\n",
       "    <tr style=\"text-align: right;\">\n",
       "      <th></th>\n",
       "      <th>PassengerId</th>\n",
       "      <th>Transported</th>\n",
       "    </tr>\n",
       "  </thead>\n",
       "  <tbody>\n",
       "    <tr>\n",
       "      <th>0</th>\n",
       "      <td>0013_01</td>\n",
       "      <td>False</td>\n",
       "    </tr>\n",
       "    <tr>\n",
       "      <th>1</th>\n",
       "      <td>0018_01</td>\n",
       "      <td>False</td>\n",
       "    </tr>\n",
       "    <tr>\n",
       "      <th>2</th>\n",
       "      <td>0019_01</td>\n",
       "      <td>True</td>\n",
       "    </tr>\n",
       "    <tr>\n",
       "      <th>3</th>\n",
       "      <td>0021_01</td>\n",
       "      <td>True</td>\n",
       "    </tr>\n",
       "    <tr>\n",
       "      <th>4</th>\n",
       "      <td>0023_01</td>\n",
       "      <td>False</td>\n",
       "    </tr>\n",
       "  </tbody>\n",
       "</table>\n",
       "</div>"
      ],
      "text/plain": [
       "  PassengerId  Transported\n",
       "0     0013_01        False\n",
       "1     0018_01        False\n",
       "2     0019_01         True\n",
       "3     0021_01         True\n",
       "4     0023_01        False"
      ]
     },
     "execution_count": 6,
     "metadata": {},
     "output_type": "execute_result"
    }
   ],
   "source": [
    "submission.head()"
   ]
  },
  {
   "cell_type": "code",
   "execution_count": 7,
   "id": "84c6644b",
   "metadata": {},
   "outputs": [
    {
     "name": "stdout",
     "output_type": "stream",
     "text": [
      "<class 'pandas.core.frame.DataFrame'>\n",
      "RangeIndex: 4277 entries, 0 to 4276\n",
      "Data columns (total 2 columns):\n",
      " #   Column       Non-Null Count  Dtype \n",
      "---  ------       --------------  ----- \n",
      " 0   PassengerId  4277 non-null   object\n",
      " 1   Transported  4277 non-null   bool  \n",
      "dtypes: bool(1), object(1)\n",
      "memory usage: 37.7+ KB\n"
     ]
    }
   ],
   "source": [
    "submission.info()"
   ]
  },
  {
   "cell_type": "code",
   "execution_count": 8,
   "id": "752674af",
   "metadata": {},
   "outputs": [],
   "source": [
    "target = train.columns.to_list()[-1]\n",
    "# convert target from bool to int\n",
    "train[target] = train[target].astype(int)\n",
    "train_target = train[target]"
   ]
  },
  {
   "cell_type": "code",
   "execution_count": 9,
   "id": "ac10a641",
   "metadata": {},
   "outputs": [
    {
     "data": {
      "image/png": "[encoded data removed]",
      "text/plain": [
       "<Figure size 576x288 with 1 Axes>"
      ]
     },
     "metadata": {
      "needs_background": "dark"
     },
     "output_type": "display_data"
    }
   ],
   "source": [
    "plt.figure(figsize=(8,4))\n",
    "sns.countplot(data = train, x = target, color='g')\n",
    "plt.title('Class distribution')\n",
    "plt.show()"
   ]
  },
  {
   "cell_type": "code",
   "execution_count": 10,
   "id": "fc5d2507",
   "metadata": {},
   "outputs": [],
   "source": [
    "train.drop(target, axis=1, inplace=True)\n",
    "train_id = train['PassengerId']\n",
    "test_id = test['PassengerId']"
   ]
  },
  {
   "cell_type": "code",
   "execution_count": 11,
   "id": "e0dc3007",
   "metadata": {},
   "outputs": [],
   "source": [
    "# combine over rows, keeping id for now as group number might be useful\n",
    "combined = pd.concat([train, test], axis = 0)"
   ]
  },
  {
   "cell_type": "markdown",
   "id": "b6c944f8",
   "metadata": {},
   "source": [
    "### Feature engineering"
   ]
  },
  {
   "cell_type": "code",
   "execution_count": 12,
   "id": "681e26d6",
   "metadata": {},
   "outputs": [
    {
     "name": "stdout",
     "output_type": "stream",
     "text": [
      "<class 'pandas.core.frame.DataFrame'>\n",
      "Int64Index: 12970 entries, 0 to 4276\n",
      "Data columns (total 13 columns):\n",
      " #   Column        Non-Null Count  Dtype  \n",
      "---  ------        --------------  -----  \n",
      " 0   PassengerId   12970 non-null  object \n",
      " 1   HomePlanet    12682 non-null  object \n",
      " 2   CryoSleep     12660 non-null  object \n",
      " 3   Cabin         12671 non-null  object \n",
      " 4   Destination   12696 non-null  object \n",
      " 5   Age           12700 non-null  float64\n",
      " 6   VIP           12674 non-null  object \n",
      " 7   RoomService   12707 non-null  float64\n",
      " 8   FoodCourt     12681 non-null  float64\n",
      " 9   ShoppingMall  12664 non-null  float64\n",
      " 10  Spa           12686 non-null  float64\n",
      " 11  VRDeck        12702 non-null  float64\n",
      " 12  Name          12676 non-null  object \n",
      "dtypes: float64(6), object(7)\n",
      "memory usage: 1.4+ MB\n"
     ]
    }
   ],
   "source": [
    "combined.info()"
   ]
  },
  {
   "cell_type": "code",
   "execution_count": 13,
   "id": "e7ca193d",
   "metadata": {},
   "outputs": [
    {
     "data": {
      "text/html": [
       "<div>\n",
       "<style scoped>\n",
       "    .dataframe tbody tr th:only-of-type {\n",
       "        vertical-align: middle;\n",
       "    }\n",
       "\n",
       "    .dataframe tbody tr th {\n",
       "        vertical-align: top;\n",
       "    }\n",
       "\n",
       "    .dataframe thead th {\n",
       "        text-align: right;\n",
       "    }\n",
       "</style>\n",
       "<table border=\"1\" class=\"dataframe\">\n",
       "  <thead>\n",
       "    <tr style=\"text-align: right;\">\n",
       "      <th></th>\n",
       "      <th>PassengerId</th>\n",
       "      <th>HomePlanet</th>\n",
       "      <th>CryoSleep</th>\n",
       "      <th>Cabin</th>\n",
       "      <th>Destination</th>\n",
       "      <th>Age</th>\n",
       "      <th>VIP</th>\n",
       "      <th>RoomService</th>\n",
       "      <th>FoodCourt</th>\n",
       "      <th>ShoppingMall</th>\n",
       "      <th>Spa</th>\n",
       "      <th>VRDeck</th>\n",
       "      <th>Name</th>\n",
       "    </tr>\n",
       "  </thead>\n",
       "  <tbody>\n",
       "    <tr>\n",
       "      <th>0</th>\n",
       "      <td>0001_01</td>\n",
       "      <td>Europa</td>\n",
       "      <td>False</td>\n",
       "      <td>B/0/P</td>\n",
       "      <td>TRAPPIST-1e</td>\n",
       "      <td>39.0</td>\n",
       "      <td>False</td>\n",
       "      <td>0.0</td>\n",
       "      <td>0.0</td>\n",
       "      <td>0.0</td>\n",
       "      <td>0.0</td>\n",
       "      <td>0.0</td>\n",
       "      <td>Maham Ofracculy</td>\n",
       "    </tr>\n",
       "    <tr>\n",
       "      <th>1</th>\n",
       "      <td>0002_01</td>\n",
       "      <td>Earth</td>\n",
       "      <td>False</td>\n",
       "      <td>F/0/S</td>\n",
       "      <td>TRAPPIST-1e</td>\n",
       "      <td>24.0</td>\n",
       "      <td>False</td>\n",
       "      <td>109.0</td>\n",
       "      <td>9.0</td>\n",
       "      <td>25.0</td>\n",
       "      <td>549.0</td>\n",
       "      <td>44.0</td>\n",
       "      <td>Juanna Vines</td>\n",
       "    </tr>\n",
       "    <tr>\n",
       "      <th>2</th>\n",
       "      <td>0003_01</td>\n",
       "      <td>Europa</td>\n",
       "      <td>False</td>\n",
       "      <td>A/0/S</td>\n",
       "      <td>TRAPPIST-1e</td>\n",
       "      <td>58.0</td>\n",
       "      <td>True</td>\n",
       "      <td>43.0</td>\n",
       "      <td>3576.0</td>\n",
       "      <td>0.0</td>\n",
       "      <td>6715.0</td>\n",
       "      <td>49.0</td>\n",
       "      <td>Altark Susent</td>\n",
       "    </tr>\n",
       "    <tr>\n",
       "      <th>3</th>\n",
       "      <td>0003_02</td>\n",
       "      <td>Europa</td>\n",
       "      <td>False</td>\n",
       "      <td>A/0/S</td>\n",
       "      <td>TRAPPIST-1e</td>\n",
       "      <td>33.0</td>\n",
       "      <td>False</td>\n",
       "      <td>0.0</td>\n",
       "      <td>1283.0</td>\n",
       "      <td>371.0</td>\n",
       "      <td>3329.0</td>\n",
       "      <td>193.0</td>\n",
       "      <td>Solam Susent</td>\n",
       "    </tr>\n",
       "    <tr>\n",
       "      <th>4</th>\n",
       "      <td>0004_01</td>\n",
       "      <td>Earth</td>\n",
       "      <td>False</td>\n",
       "      <td>F/1/S</td>\n",
       "      <td>TRAPPIST-1e</td>\n",
       "      <td>16.0</td>\n",
       "      <td>False</td>\n",
       "      <td>303.0</td>\n",
       "      <td>70.0</td>\n",
       "      <td>151.0</td>\n",
       "      <td>565.0</td>\n",
       "      <td>2.0</td>\n",
       "      <td>Willy Santantines</td>\n",
       "    </tr>\n",
       "  </tbody>\n",
       "</table>\n",
       "</div>"
      ],
      "text/plain": [
       "  PassengerId HomePlanet CryoSleep  Cabin  Destination   Age    VIP  \\\n",
       "0     0001_01     Europa     False  B/0/P  TRAPPIST-1e  39.0  False   \n",
       "1     0002_01      Earth     False  F/0/S  TRAPPIST-1e  24.0  False   \n",
       "2     0003_01     Europa     False  A/0/S  TRAPPIST-1e  58.0   True   \n",
       "3     0003_02     Europa     False  A/0/S  TRAPPIST-1e  33.0  False   \n",
       "4     0004_01      Earth     False  F/1/S  TRAPPIST-1e  16.0  False   \n",
       "\n",
       "   RoomService  FoodCourt  ShoppingMall     Spa  VRDeck               Name  \n",
       "0          0.0        0.0           0.0     0.0     0.0    Maham Ofracculy  \n",
       "1        109.0        9.0          25.0   549.0    44.0       Juanna Vines  \n",
       "2         43.0     3576.0           0.0  6715.0    49.0      Altark Susent  \n",
       "3          0.0     1283.0         371.0  3329.0   193.0       Solam Susent  \n",
       "4        303.0       70.0         151.0   565.0     2.0  Willy Santantines  "
      ]
     },
     "execution_count": 13,
     "metadata": {},
     "output_type": "execute_result"
    }
   ],
   "source": [
    "combined.head()"
   ]
  },
  {
   "cell_type": "code",
   "execution_count": 14,
   "id": "201c9099",
   "metadata": {},
   "outputs": [],
   "source": [
    "combined['Group'] = combined['PassengerId'].str[:4]\n",
    "combined.drop('PassengerId', inplace=True, axis=1)"
   ]
  },
  {
   "cell_type": "markdown",
   "id": "129eb55b",
   "metadata": {},
   "source": [
    "Categorical columns"
   ]
  },
  {
   "cell_type": "code",
   "execution_count": 15,
   "id": "a9c16245",
   "metadata": {},
   "outputs": [],
   "source": [
    "# categorical columns\n",
    "col_cat_NA = ['HomePlanet', 'CryoSleep', 'Cabin', 'Destination', 'VIP']\n",
    "\n",
    "# fill with Group first\n",
    "for col in col_cat_NA:\n",
    "    combined[col] = combined.groupby('Group')[col].transform(\n",
    "    lambda x: x.fillna(x.mode()[0] if not x.mode().empty else np.nan))\n",
    "    \n",
    "# need to do this, so we can use homeplanet to fill values for destination\n",
    "combined['HomePlanet'].fillna('', inplace=True)\n",
    "combined['Destination'] = combined.groupby('HomePlanet')['Destination'].transform(\n",
    "    lambda x: x.fillna(x.mode()[0]))\n",
    "# reverse what we did earlier\n",
    "combined['HomePlanet'].replace('', np.nan, inplace=True)\n",
    "\n",
    "# now fill homeplanet with destination\n",
    "combined['HomePlanet'] = combined.groupby('Destination')['HomePlanet'].transform(\n",
    "    lambda x: x.fillna(x.mode()[0]))\n",
    "\n",
    "combined['CryoSleep'] = combined.groupby('Destination')['CryoSleep'].transform(\n",
    "    lambda x: x.fillna(x.mode()[0]))\n",
    "combined['VIP'].fillna(False, inplace=True)\n",
    "    \n",
    "# need to break cabin down, this is screwing it up when the entire cabin isn't available\n",
    "combined[['deck', 'cabin_num', 'side']] = combined['Cabin'].str.split('/', expand=True)\n",
    "\n",
    "combined.drop('Cabin', inplace=True, axis=1)\n",
    "\n",
    "col_cat_na = ['deck', 'cabin_num', 'side']\n",
    "\n",
    "for col in col_cat_na:\n",
    "    combined[col] = combined.groupby('Destination')[col].transform(\n",
    "        lambda x: x.fillna(x.mode()[0]))\n",
    "combined['cabin_num'] = combined['cabin_num'].astype(int)\n",
    "\n",
    "# drop name\n",
    "combined.drop('Name', inplace=True, axis=1)"
   ]
  },
  {
   "cell_type": "markdown",
   "id": "0390b12b",
   "metadata": {},
   "source": [
    "Numerical columns"
   ]
  },
  {
   "cell_type": "code",
   "execution_count": 16,
   "id": "e6c4e3d5",
   "metadata": {},
   "outputs": [
    {
     "data": {
      "image/png": "[encoded data removed]",
      "text/plain": [
       "<Figure size 864x576 with 6 Axes>"
      ]
     },
     "metadata": {
      "needs_background": "dark"
     },
     "output_type": "display_data"
    }
   ],
   "source": [
    "# numerical columns \n",
    "col_num = combined.select_dtypes(include=['number']).columns\n",
    "col_num = col_num.drop(['cabin_num', 'CryoSleep'])\n",
    "\n",
    "# subplot placehodlers\n",
    "fig, axes = plt.subplots(3, 2, figsize=(12,8))\n",
    "\n",
    "# flatten the axes for easier indexing\n",
    "axes = axes.ravel()\n",
    "\n",
    "# iterate over number columns, enumerate cause working with index list\n",
    "for i, col in enumerate(col_num):\n",
    "    ax = axes[i]\n",
    "    # checking distribution for data above 0\n",
    "    t = combined.loc[combined[col]>-1]\n",
    "    sns.histplot(t[col], ax=ax, kde=True, bins=100)\n",
    "    ax.set_xlabel(col)\n",
    "    ax.set_ylabel('Frequency')\n",
    "    \n",
    "# adjust layout\n",
    "plt.tight_layout()\n",
    "\n",
    "plt.show()"
   ]
  },
  {
   "cell_type": "code",
   "execution_count": 17,
   "id": "7a46455c",
   "metadata": {},
   "outputs": [
    {
     "data": {
      "text/html": [
       "<div>\n",
       "<style scoped>\n",
       "    .dataframe tbody tr th:only-of-type {\n",
       "        vertical-align: middle;\n",
       "    }\n",
       "\n",
       "    .dataframe tbody tr th {\n",
       "        vertical-align: top;\n",
       "    }\n",
       "\n",
       "    .dataframe thead th {\n",
       "        text-align: right;\n",
       "    }\n",
       "</style>\n",
       "<table border=\"1\" class=\"dataframe\">\n",
       "  <thead>\n",
       "    <tr style=\"text-align: right;\">\n",
       "      <th></th>\n",
       "      <th>CryoSleep</th>\n",
       "      <th>Age</th>\n",
       "      <th>RoomService</th>\n",
       "      <th>FoodCourt</th>\n",
       "      <th>ShoppingMall</th>\n",
       "      <th>Spa</th>\n",
       "      <th>VRDeck</th>\n",
       "      <th>cabin_num</th>\n",
       "    </tr>\n",
       "  </thead>\n",
       "  <tbody>\n",
       "    <tr>\n",
       "      <th>count</th>\n",
       "      <td>4404.000000</td>\n",
       "      <td>4321.000000</td>\n",
       "      <td>4404.000000</td>\n",
       "      <td>4296.000000</td>\n",
       "      <td>4303.000000</td>\n",
       "      <td>4304.000000</td>\n",
       "      <td>4322.000000</td>\n",
       "      <td>4404.000000</td>\n",
       "    </tr>\n",
       "    <tr>\n",
       "      <th>mean</th>\n",
       "      <td>0.004087</td>\n",
       "      <td>31.032631</td>\n",
       "      <td>643.134196</td>\n",
       "      <td>484.818203</td>\n",
       "      <td>313.019986</td>\n",
       "      <td>365.609433</td>\n",
       "      <td>337.559695</td>\n",
       "      <td>645.533606</td>\n",
       "    </tr>\n",
       "    <tr>\n",
       "      <th>std</th>\n",
       "      <td>0.063808</td>\n",
       "      <td>12.431650</td>\n",
       "      <td>969.486624</td>\n",
       "      <td>1477.621759</td>\n",
       "      <td>657.312688</td>\n",
       "      <td>1118.498526</td>\n",
       "      <td>1187.149866</td>\n",
       "      <td>536.059777</td>\n",
       "    </tr>\n",
       "    <tr>\n",
       "      <th>min</th>\n",
       "      <td>0.000000</td>\n",
       "      <td>13.000000</td>\n",
       "      <td>1.000000</td>\n",
       "      <td>0.000000</td>\n",
       "      <td>0.000000</td>\n",
       "      <td>0.000000</td>\n",
       "      <td>0.000000</td>\n",
       "      <td>0.000000</td>\n",
       "    </tr>\n",
       "    <tr>\n",
       "      <th>25%</th>\n",
       "      <td>0.000000</td>\n",
       "      <td>21.000000</td>\n",
       "      <td>37.000000</td>\n",
       "      <td>0.000000</td>\n",
       "      <td>0.000000</td>\n",
       "      <td>0.000000</td>\n",
       "      <td>0.000000</td>\n",
       "      <td>193.000000</td>\n",
       "    </tr>\n",
       "    <tr>\n",
       "      <th>50%</th>\n",
       "      <td>0.000000</td>\n",
       "      <td>28.000000</td>\n",
       "      <td>313.500000</td>\n",
       "      <td>2.000000</td>\n",
       "      <td>19.000000</td>\n",
       "      <td>6.000000</td>\n",
       "      <td>1.000000</td>\n",
       "      <td>471.000000</td>\n",
       "    </tr>\n",
       "    <tr>\n",
       "      <th>75%</th>\n",
       "      <td>0.000000</td>\n",
       "      <td>38.000000</td>\n",
       "      <td>857.000000</td>\n",
       "      <td>276.000000</td>\n",
       "      <td>372.000000</td>\n",
       "      <td>245.000000</td>\n",
       "      <td>171.000000</td>\n",
       "      <td>1070.250000</td>\n",
       "    </tr>\n",
       "    <tr>\n",
       "      <th>max</th>\n",
       "      <td>1.000000</td>\n",
       "      <td>79.000000</td>\n",
       "      <td>14327.000000</td>\n",
       "      <td>26830.000000</td>\n",
       "      <td>8098.000000</td>\n",
       "      <td>22408.000000</td>\n",
       "      <td>24133.000000</td>\n",
       "      <td>1894.000000</td>\n",
       "    </tr>\n",
       "  </tbody>\n",
       "</table>\n",
       "</div>"
      ],
      "text/plain": [
       "         CryoSleep          Age   RoomService     FoodCourt  ShoppingMall  \\\n",
       "count  4404.000000  4321.000000   4404.000000   4296.000000   4303.000000   \n",
       "mean      0.004087    31.032631    643.134196    484.818203    313.019986   \n",
       "std       0.063808    12.431650    969.486624   1477.621759    657.312688   \n",
       "min       0.000000    13.000000      1.000000      0.000000      0.000000   \n",
       "25%       0.000000    21.000000     37.000000      0.000000      0.000000   \n",
       "50%       0.000000    28.000000    313.500000      2.000000     19.000000   \n",
       "75%       0.000000    38.000000    857.000000    276.000000    372.000000   \n",
       "max       1.000000    79.000000  14327.000000  26830.000000   8098.000000   \n",
       "\n",
       "                Spa        VRDeck    cabin_num  \n",
       "count   4304.000000   4322.000000  4404.000000  \n",
       "mean     365.609433    337.559695   645.533606  \n",
       "std     1118.498526   1187.149866   536.059777  \n",
       "min        0.000000      0.000000     0.000000  \n",
       "25%        0.000000      0.000000   193.000000  \n",
       "50%        6.000000      1.000000   471.000000  \n",
       "75%      245.000000    171.000000  1070.250000  \n",
       "max    22408.000000  24133.000000  1894.000000  "
      ]
     },
     "metadata": {},
     "output_type": "display_data"
    },
    {
     "name": "stderr",
     "output_type": "stream",
     "text": [
      "/var/folders/3s/l2m1db5135751grhtk16_j200000gn/T/ipykernel_54379/3600371989.py:2: FutureWarning: Dropping of nuisance columns in DataFrame reductions (with 'numeric_only=None') is deprecated; in a future version this will raise TypeError.  Select only valid columns before calling the reduction.\n",
      "  display(combined.loc[combined['RoomService']>0].median())\n"
     ]
    },
    {
     "data": {
      "text/plain": [
       "CryoSleep          0.0\n",
       "Age               28.0\n",
       "VIP                0.0\n",
       "RoomService      313.5\n",
       "FoodCourt          2.0\n",
       "ShoppingMall      19.0\n",
       "Spa                6.0\n",
       "VRDeck             1.0\n",
       "Group           4639.5\n",
       "cabin_num        471.0\n",
       "dtype: float64"
      ]
     },
     "metadata": {},
     "output_type": "display_data"
    }
   ],
   "source": [
    "display(combined.loc[combined['RoomService']>0].describe())\n",
    "display(combined.loc[combined['RoomService']>0].median())"
   ]
  },
  {
   "cell_type": "code",
   "execution_count": 18,
   "id": "99926cc4",
   "metadata": {},
   "outputs": [],
   "source": [
    "# replace 0s with null\n",
    "# combined[col_num] = combined[col_num].replace(0, np.nan)\n",
    "\n",
    "# fill with Group first\n",
    "for i, col in enumerate(col_num):\n",
    "    combined[col] = combined.groupby('Group')[col].transform(\n",
    "        lambda x: x.fillna(x.mean()))"
   ]
  },
  {
   "cell_type": "code",
   "execution_count": 19,
   "id": "dc579183",
   "metadata": {},
   "outputs": [],
   "source": [
    "# fill with destination now\n",
    "for i, col in enumerate(col_num):\n",
    "    combined[col] = combined.groupby('Destination')[col].transform(\n",
    "        lambda x: x.fillna(x.median()))"
   ]
  },
  {
   "cell_type": "code",
   "execution_count": 20,
   "id": "6974291c",
   "metadata": {},
   "outputs": [],
   "source": [
    "# take log due to skewed distribution\n",
    "for i, col in enumerate(col_num):\n",
    "    combined[col] = np.log1p(combined[col])"
   ]
  },
  {
   "cell_type": "code",
   "execution_count": 21,
   "id": "63f1cc25",
   "metadata": {},
   "outputs": [],
   "source": [
    "# adding new features\n",
    "combined['TotalSpent'] = combined[['RoomService', 'FoodCourt', \n",
    "                                   'ShoppingMall','Spa', 'VRDeck']].sum(axis=1)\n",
    "\n",
    "# since the distribution is so skewed to 0s, this might help\n",
    "# combined['moneySpent'] = (combined['TotalSpent']>0).astype(int)"
   ]
  },
  {
   "cell_type": "code",
   "execution_count": 22,
   "id": "f2fa1aa1",
   "metadata": {},
   "outputs": [
    {
     "data": {
      "text/plain": [
       "array([0.0, 1.0], dtype=object)"
      ]
     },
     "execution_count": 22,
     "metadata": {},
     "output_type": "execute_result"
    }
   ],
   "source": [
    "combined['VIP'].unique()"
   ]
  },
  {
   "cell_type": "code",
   "execution_count": 23,
   "id": "8913d33b",
   "metadata": {},
   "outputs": [
    {
     "data": {
      "text/plain": [
       "<Figure size 864x576 with 0 Axes>"
      ]
     },
     "metadata": {},
     "output_type": "display_data"
    },
    {
     "data": {
      "image/png": "[encoded data removed]",
      "text/plain": [
       "<Figure size 360x360 with 1 Axes>"
      ]
     },
     "metadata": {
      "needs_background": "dark"
     },
     "output_type": "display_data"
    }
   ],
   "source": [
    "col = 'TotalSpent'\n",
    "plt.figure(figsize=(12,8))\n",
    "sns.displot(data=combined, x=col, color='g', kde=True)\n",
    "plt.show()"
   ]
  },
  {
   "cell_type": "code",
   "execution_count": 24,
   "id": "b84751ce",
   "metadata": {},
   "outputs": [],
   "source": [
    "col_bool = ['CryoSleep', 'VIP']\n",
    "\n",
    "# correct dtypes of boolean columns from object to bool then to int\n",
    "for col in col_bool:\n",
    "    combined[col] = combined[col].astype(bool).astype(int)"
   ]
  },
  {
   "cell_type": "code",
   "execution_count": 25,
   "id": "967f5469",
   "metadata": {},
   "outputs": [
    {
     "name": "stdout",
     "output_type": "stream",
     "text": [
      "<class 'pandas.core.frame.DataFrame'>\n",
      "Int64Index: 12970 entries, 0 to 4276\n",
      "Data columns (total 15 columns):\n",
      " #   Column        Non-Null Count  Dtype  \n",
      "---  ------        --------------  -----  \n",
      " 0   HomePlanet    12970 non-null  object \n",
      " 1   CryoSleep     12970 non-null  int64  \n",
      " 2   Destination   12970 non-null  object \n",
      " 3   Age           12970 non-null  float64\n",
      " 4   VIP           12970 non-null  int64  \n",
      " 5   RoomService   12970 non-null  float64\n",
      " 6   FoodCourt     12970 non-null  float64\n",
      " 7   ShoppingMall  12970 non-null  float64\n",
      " 8   Spa           12970 non-null  float64\n",
      " 9   VRDeck        12970 non-null  float64\n",
      " 10  Group         12970 non-null  object \n",
      " 11  deck          12970 non-null  object \n",
      " 12  cabin_num     12970 non-null  int64  \n",
      " 13  side          12970 non-null  object \n",
      " 14  TotalSpent    12970 non-null  float64\n",
      "dtypes: float64(7), int64(3), object(5)\n",
      "memory usage: 1.6+ MB\n"
     ]
    }
   ],
   "source": [
    "# convert category columns to numerical/binary\n",
    "combined.info()"
   ]
  },
  {
   "cell_type": "code",
   "execution_count": 26,
   "id": "58df1721",
   "metadata": {},
   "outputs": [],
   "source": [
    "# one hot encoding\n",
    "combined = pd.get_dummies(combined, columns=['HomePlanet', 'Destination', 'deck', 'side'])\n",
    "\n",
    "# shouldn't be, but for now, let's...maybe this does make sense after all\n",
    "combined['Group'] = combined['Group'].astype('int')"
   ]
  },
  {
   "cell_type": "code",
   "execution_count": 27,
   "id": "14f81999",
   "metadata": {},
   "outputs": [],
   "source": [
    "# change dtypes to int\n",
    "combined.iloc[:, -16:] = combined.iloc[:, -16:].astype(int)"
   ]
  },
  {
   "cell_type": "code",
   "execution_count": 28,
   "id": "adfdd8d6",
   "metadata": {},
   "outputs": [
    {
     "name": "stdout",
     "output_type": "stream",
     "text": [
      "<class 'pandas.core.frame.DataFrame'>\n",
      "Int64Index: 12970 entries, 0 to 4276\n",
      "Data columns (total 27 columns):\n",
      " #   Column                     Non-Null Count  Dtype  \n",
      "---  ------                     --------------  -----  \n",
      " 0   CryoSleep                  12970 non-null  int64  \n",
      " 1   Age                        12970 non-null  float64\n",
      " 2   VIP                        12970 non-null  int64  \n",
      " 3   RoomService                12970 non-null  float64\n",
      " 4   FoodCourt                  12970 non-null  float64\n",
      " 5   ShoppingMall               12970 non-null  float64\n",
      " 6   Spa                        12970 non-null  float64\n",
      " 7   VRDeck                     12970 non-null  float64\n",
      " 8   Group                      12970 non-null  int64  \n",
      " 9   cabin_num                  12970 non-null  int64  \n",
      " 10  TotalSpent                 12970 non-null  float64\n",
      " 11  HomePlanet_Earth           12970 non-null  int64  \n",
      " 12  HomePlanet_Europa          12970 non-null  int64  \n",
      " 13  HomePlanet_Mars            12970 non-null  int64  \n",
      " 14  Destination_55 Cancri e    12970 non-null  int64  \n",
      " 15  Destination_PSO J318.5-22  12970 non-null  int64  \n",
      " 16  Destination_TRAPPIST-1e    12970 non-null  int64  \n",
      " 17  deck_A                     12970 non-null  int64  \n",
      " 18  deck_B                     12970 non-null  int64  \n",
      " 19  deck_C                     12970 non-null  int64  \n",
      " 20  deck_D                     12970 non-null  int64  \n",
      " 21  deck_E                     12970 non-null  int64  \n",
      " 22  deck_F                     12970 non-null  int64  \n",
      " 23  deck_G                     12970 non-null  int64  \n",
      " 24  deck_T                     12970 non-null  int64  \n",
      " 25  side_P                     12970 non-null  int64  \n",
      " 26  side_S                     12970 non-null  int64  \n",
      "dtypes: float64(7), int64(20)\n",
      "memory usage: 2.8 MB\n"
     ]
    }
   ],
   "source": [
    "combined.info()"
   ]
  },
  {
   "cell_type": "code",
   "execution_count": 29,
   "id": "4ed43be5",
   "metadata": {},
   "outputs": [],
   "source": [
    "# saving a combined copy\n",
    "combinedCopy = combined.copy(deep=True)"
   ]
  },
  {
   "cell_type": "code",
   "execution_count": 30,
   "id": "423d0f6e",
   "metadata": {},
   "outputs": [],
   "source": [
    "combined = combinedCopy.copy(deep=True)"
   ]
  },
  {
   "cell_type": "markdown",
   "id": "3ffe1e0d",
   "metadata": {},
   "source": [
    "Min-max Normalization"
   ]
  },
  {
   "cell_type": "code",
   "execution_count": 31,
   "id": "fbc4c549",
   "metadata": {},
   "outputs": [],
   "source": [
    "def min_max_norm(col):\n",
    "    min_val = col.min()\n",
    "    max_val = col.max()\n",
    "    \n",
    "    return (col-min_val) / (max_val - min_val)\n",
    "\n",
    "combined = combined.apply(min_max_norm)"
   ]
  },
  {
   "cell_type": "markdown",
   "id": "019d3909",
   "metadata": {},
   "source": [
    "### Model design"
   ]
  },
  {
   "cell_type": "code",
   "execution_count": 32,
   "id": "9e284b92",
   "metadata": {},
   "outputs": [
    {
     "name": "stdout",
     "output_type": "stream",
     "text": [
      "Train shape (8693, 28)\n",
      "Test shape (4277, 27)\n"
     ]
    },
    {
     "name": "stderr",
     "output_type": "stream",
     "text": [
      "/var/folders/3s/l2m1db5135751grhtk16_j200000gn/T/ipykernel_54379/2658725243.py:3: SettingWithCopyWarning: \n",
      "A value is trying to be set on a copy of a slice from a DataFrame.\n",
      "Try using .loc[row_indexer,col_indexer] = value instead\n",
      "\n",
      "See the caveats in the documentation: https://pandas.pydata.org/pandas-docs/stable/user_guide/indexing.html#returning-a-view-versus-a-copy\n",
      "  train[target] = train_target\n"
     ]
    }
   ],
   "source": [
    "train = combined.iloc[:train_id.shape[0]]\n",
    "test = combined.iloc[-test_id.shape[0]:]\n",
    "train[target] = train_target\n",
    "print('Train shape', train.shape)\n",
    "print('Test shape', test.shape)"
   ]
  },
  {
   "cell_type": "code",
   "execution_count": 33,
   "id": "80e88cc2",
   "metadata": {},
   "outputs": [
    {
     "name": "stdout",
     "output_type": "stream",
     "text": [
      "6101 samples in training, 2592 samples in testing data\n"
     ]
    }
   ],
   "source": [
    "# let's split train data into train/test\n",
    "def train_test_split(data, test_ratio=0.3):\n",
    "    test_indices = np.random.rand(data.shape[0]) < test_ratio\n",
    "    return data[~test_indices], data[test_indices]\n",
    "train_data, test_data = train_test_split(train)\n",
    "print('{} samples in training, {} samples in testing data'.format(train_data.shape[0], \n",
    "                                                            test_data.shape[0]))"
   ]
  },
  {
   "cell_type": "code",
   "execution_count": 34,
   "id": "65624cb6",
   "metadata": {},
   "outputs": [
    {
     "data": {
      "text/html": [
       "<div>\n",
       "<style scoped>\n",
       "    .dataframe tbody tr th:only-of-type {\n",
       "        vertical-align: middle;\n",
       "    }\n",
       "\n",
       "    .dataframe tbody tr th {\n",
       "        vertical-align: top;\n",
       "    }\n",
       "\n",
       "    .dataframe thead th {\n",
       "        text-align: right;\n",
       "    }\n",
       "</style>\n",
       "<table border=\"1\" class=\"dataframe\">\n",
       "  <thead>\n",
       "    <tr style=\"text-align: right;\">\n",
       "      <th></th>\n",
       "      <th>CryoSleep</th>\n",
       "      <th>Age</th>\n",
       "      <th>VIP</th>\n",
       "      <th>RoomService</th>\n",
       "      <th>FoodCourt</th>\n",
       "      <th>ShoppingMall</th>\n",
       "      <th>Spa</th>\n",
       "      <th>VRDeck</th>\n",
       "      <th>Group</th>\n",
       "      <th>cabin_num</th>\n",
       "      <th>TotalSpent</th>\n",
       "      <th>HomePlanet_Earth</th>\n",
       "      <th>HomePlanet_Europa</th>\n",
       "      <th>HomePlanet_Mars</th>\n",
       "      <th>Destination_55 Cancri e</th>\n",
       "      <th>Destination_PSO J318.5-22</th>\n",
       "      <th>Destination_TRAPPIST-1e</th>\n",
       "      <th>deck_A</th>\n",
       "      <th>deck_B</th>\n",
       "      <th>deck_C</th>\n",
       "      <th>deck_D</th>\n",
       "      <th>deck_E</th>\n",
       "      <th>deck_F</th>\n",
       "      <th>deck_G</th>\n",
       "      <th>deck_T</th>\n",
       "      <th>side_P</th>\n",
       "      <th>side_S</th>\n",
       "      <th>Transported</th>\n",
       "    </tr>\n",
       "  </thead>\n",
       "  <tbody>\n",
       "    <tr>\n",
       "      <th>3</th>\n",
       "      <td>0.0</td>\n",
       "      <td>0.804733</td>\n",
       "      <td>0.0</td>\n",
       "      <td>0.000000</td>\n",
       "      <td>0.694741</td>\n",
       "      <td>0.588099</td>\n",
       "      <td>0.809679</td>\n",
       "      <td>0.522016</td>\n",
       "      <td>0.000216</td>\n",
       "      <td>0.000000</td>\n",
       "      <td>0.665997</td>\n",
       "      <td>0.0</td>\n",
       "      <td>1.0</td>\n",
       "      <td>0.0</td>\n",
       "      <td>0.0</td>\n",
       "      <td>0.0</td>\n",
       "      <td>1.0</td>\n",
       "      <td>1.0</td>\n",
       "      <td>0.0</td>\n",
       "      <td>0.0</td>\n",
       "      <td>0.0</td>\n",
       "      <td>0.0</td>\n",
       "      <td>0.0</td>\n",
       "      <td>0.0</td>\n",
       "      <td>0.0</td>\n",
       "      <td>0.0</td>\n",
       "      <td>1.0</td>\n",
       "      <td>0</td>\n",
       "    </tr>\n",
       "    <tr>\n",
       "      <th>4</th>\n",
       "      <td>0.0</td>\n",
       "      <td>0.646553</td>\n",
       "      <td>0.0</td>\n",
       "      <td>0.597392</td>\n",
       "      <td>0.413743</td>\n",
       "      <td>0.499171</td>\n",
       "      <td>0.632770</td>\n",
       "      <td>0.108866</td>\n",
       "      <td>0.000323</td>\n",
       "      <td>0.000528</td>\n",
       "      <td>0.564936</td>\n",
       "      <td>1.0</td>\n",
       "      <td>0.0</td>\n",
       "      <td>0.0</td>\n",
       "      <td>0.0</td>\n",
       "      <td>0.0</td>\n",
       "      <td>1.0</td>\n",
       "      <td>0.0</td>\n",
       "      <td>0.0</td>\n",
       "      <td>0.0</td>\n",
       "      <td>0.0</td>\n",
       "      <td>0.0</td>\n",
       "      <td>1.0</td>\n",
       "      <td>0.0</td>\n",
       "      <td>0.0</td>\n",
       "      <td>0.0</td>\n",
       "      <td>1.0</td>\n",
       "      <td>1</td>\n",
       "    </tr>\n",
       "    <tr>\n",
       "      <th>5</th>\n",
       "      <td>0.0</td>\n",
       "      <td>0.868699</td>\n",
       "      <td>0.0</td>\n",
       "      <td>0.000000</td>\n",
       "      <td>0.600043</td>\n",
       "      <td>0.000000</td>\n",
       "      <td>0.566700</td>\n",
       "      <td>0.000000</td>\n",
       "      <td>0.000431</td>\n",
       "      <td>0.000000</td>\n",
       "      <td>0.298540</td>\n",
       "      <td>1.0</td>\n",
       "      <td>0.0</td>\n",
       "      <td>0.0</td>\n",
       "      <td>0.0</td>\n",
       "      <td>1.0</td>\n",
       "      <td>0.0</td>\n",
       "      <td>0.0</td>\n",
       "      <td>0.0</td>\n",
       "      <td>0.0</td>\n",
       "      <td>0.0</td>\n",
       "      <td>0.0</td>\n",
       "      <td>1.0</td>\n",
       "      <td>0.0</td>\n",
       "      <td>0.0</td>\n",
       "      <td>1.0</td>\n",
       "      <td>0.0</td>\n",
       "      <td>1</td>\n",
       "    </tr>\n",
       "    <tr>\n",
       "      <th>6</th>\n",
       "      <td>0.0</td>\n",
       "      <td>0.752126</td>\n",
       "      <td>0.0</td>\n",
       "      <td>0.393021</td>\n",
       "      <td>0.712387</td>\n",
       "      <td>0.137742</td>\n",
       "      <td>0.000000</td>\n",
       "      <td>0.000000</td>\n",
       "      <td>0.000539</td>\n",
       "      <td>0.001056</td>\n",
       "      <td>0.314355</td>\n",
       "      <td>1.0</td>\n",
       "      <td>0.0</td>\n",
       "      <td>0.0</td>\n",
       "      <td>0.0</td>\n",
       "      <td>0.0</td>\n",
       "      <td>1.0</td>\n",
       "      <td>0.0</td>\n",
       "      <td>0.0</td>\n",
       "      <td>0.0</td>\n",
       "      <td>0.0</td>\n",
       "      <td>0.0</td>\n",
       "      <td>1.0</td>\n",
       "      <td>0.0</td>\n",
       "      <td>0.0</td>\n",
       "      <td>0.0</td>\n",
       "      <td>1.0</td>\n",
       "      <td>1</td>\n",
       "    </tr>\n",
       "    <tr>\n",
       "      <th>7</th>\n",
       "      <td>1.0</td>\n",
       "      <td>0.768433</td>\n",
       "      <td>0.0</td>\n",
       "      <td>0.000000</td>\n",
       "      <td>0.000000</td>\n",
       "      <td>0.000000</td>\n",
       "      <td>0.000000</td>\n",
       "      <td>0.000000</td>\n",
       "      <td>0.000539</td>\n",
       "      <td>0.000000</td>\n",
       "      <td>0.000000</td>\n",
       "      <td>1.0</td>\n",
       "      <td>0.0</td>\n",
       "      <td>0.0</td>\n",
       "      <td>0.0</td>\n",
       "      <td>0.0</td>\n",
       "      <td>1.0</td>\n",
       "      <td>0.0</td>\n",
       "      <td>0.0</td>\n",
       "      <td>0.0</td>\n",
       "      <td>0.0</td>\n",
       "      <td>0.0</td>\n",
       "      <td>0.0</td>\n",
       "      <td>1.0</td>\n",
       "      <td>0.0</td>\n",
       "      <td>0.0</td>\n",
       "      <td>1.0</td>\n",
       "      <td>1</td>\n",
       "    </tr>\n",
       "    <tr>\n",
       "      <th>...</th>\n",
       "      <td>...</td>\n",
       "      <td>...</td>\n",
       "      <td>...</td>\n",
       "      <td>...</td>\n",
       "      <td>...</td>\n",
       "      <td>...</td>\n",
       "      <td>...</td>\n",
       "      <td>...</td>\n",
       "      <td>...</td>\n",
       "      <td>...</td>\n",
       "      <td>...</td>\n",
       "      <td>...</td>\n",
       "      <td>...</td>\n",
       "      <td>...</td>\n",
       "      <td>...</td>\n",
       "      <td>...</td>\n",
       "      <td>...</td>\n",
       "      <td>...</td>\n",
       "      <td>...</td>\n",
       "      <td>...</td>\n",
       "      <td>...</td>\n",
       "      <td>...</td>\n",
       "      <td>...</td>\n",
       "      <td>...</td>\n",
       "      <td>...</td>\n",
       "      <td>...</td>\n",
       "      <td>...</td>\n",
       "      <td>...</td>\n",
       "    </tr>\n",
       "    <tr>\n",
       "      <th>8686</th>\n",
       "      <td>0.0</td>\n",
       "      <td>0.797920</td>\n",
       "      <td>0.0</td>\n",
       "      <td>0.072429</td>\n",
       "      <td>0.683790</td>\n",
       "      <td>0.000000</td>\n",
       "      <td>0.392507</td>\n",
       "      <td>0.352315</td>\n",
       "      <td>0.999461</td>\n",
       "      <td>0.051214</td>\n",
       "      <td>0.383287</td>\n",
       "      <td>0.0</td>\n",
       "      <td>1.0</td>\n",
       "      <td>0.0</td>\n",
       "      <td>0.0</td>\n",
       "      <td>0.0</td>\n",
       "      <td>1.0</td>\n",
       "      <td>1.0</td>\n",
       "      <td>0.0</td>\n",
       "      <td>0.0</td>\n",
       "      <td>0.0</td>\n",
       "      <td>0.0</td>\n",
       "      <td>0.0</td>\n",
       "      <td>0.0</td>\n",
       "      <td>0.0</td>\n",
       "      <td>1.0</td>\n",
       "      <td>0.0</td>\n",
       "      <td>0</td>\n",
       "    </tr>\n",
       "    <tr>\n",
       "      <th>8688</th>\n",
       "      <td>0.0</td>\n",
       "      <td>0.852955</td>\n",
       "      <td>1.0</td>\n",
       "      <td>0.000000</td>\n",
       "      <td>0.856823</td>\n",
       "      <td>0.000000</td>\n",
       "      <td>0.739216</td>\n",
       "      <td>0.427839</td>\n",
       "      <td>0.999569</td>\n",
       "      <td>0.051742</td>\n",
       "      <td>0.517336</td>\n",
       "      <td>0.0</td>\n",
       "      <td>1.0</td>\n",
       "      <td>0.0</td>\n",
       "      <td>1.0</td>\n",
       "      <td>0.0</td>\n",
       "      <td>0.0</td>\n",
       "      <td>1.0</td>\n",
       "      <td>0.0</td>\n",
       "      <td>0.0</td>\n",
       "      <td>0.0</td>\n",
       "      <td>0.0</td>\n",
       "      <td>0.0</td>\n",
       "      <td>0.0</td>\n",
       "      <td>0.0</td>\n",
       "      <td>1.0</td>\n",
       "      <td>0.0</td>\n",
       "      <td>0</td>\n",
       "    </tr>\n",
       "    <tr>\n",
       "      <th>8689</th>\n",
       "      <td>1.0</td>\n",
       "      <td>0.671935</td>\n",
       "      <td>0.0</td>\n",
       "      <td>0.000000</td>\n",
       "      <td>0.000000</td>\n",
       "      <td>0.000000</td>\n",
       "      <td>0.000000</td>\n",
       "      <td>0.000000</td>\n",
       "      <td>0.999784</td>\n",
       "      <td>0.791447</td>\n",
       "      <td>0.000000</td>\n",
       "      <td>1.0</td>\n",
       "      <td>0.0</td>\n",
       "      <td>0.0</td>\n",
       "      <td>0.0</td>\n",
       "      <td>1.0</td>\n",
       "      <td>0.0</td>\n",
       "      <td>0.0</td>\n",
       "      <td>0.0</td>\n",
       "      <td>0.0</td>\n",
       "      <td>0.0</td>\n",
       "      <td>0.0</td>\n",
       "      <td>0.0</td>\n",
       "      <td>1.0</td>\n",
       "      <td>0.0</td>\n",
       "      <td>0.0</td>\n",
       "      <td>1.0</td>\n",
       "      <td>0</td>\n",
       "    </tr>\n",
       "    <tr>\n",
       "      <th>8690</th>\n",
       "      <td>0.0</td>\n",
       "      <td>0.752126</td>\n",
       "      <td>0.0</td>\n",
       "      <td>0.000000</td>\n",
       "      <td>0.000000</td>\n",
       "      <td>0.748704</td>\n",
       "      <td>0.069196</td>\n",
       "      <td>0.000000</td>\n",
       "      <td>0.999892</td>\n",
       "      <td>0.791975</td>\n",
       "      <td>0.207147</td>\n",
       "      <td>1.0</td>\n",
       "      <td>0.0</td>\n",
       "      <td>0.0</td>\n",
       "      <td>0.0</td>\n",
       "      <td>0.0</td>\n",
       "      <td>1.0</td>\n",
       "      <td>0.0</td>\n",
       "      <td>0.0</td>\n",
       "      <td>0.0</td>\n",
       "      <td>0.0</td>\n",
       "      <td>0.0</td>\n",
       "      <td>0.0</td>\n",
       "      <td>1.0</td>\n",
       "      <td>0.0</td>\n",
       "      <td>0.0</td>\n",
       "      <td>1.0</td>\n",
       "      <td>1</td>\n",
       "    </tr>\n",
       "    <tr>\n",
       "      <th>8691</th>\n",
       "      <td>0.0</td>\n",
       "      <td>0.797920</td>\n",
       "      <td>0.0</td>\n",
       "      <td>0.000000</td>\n",
       "      <td>0.675214</td>\n",
       "      <td>0.000000</td>\n",
       "      <td>0.585921</td>\n",
       "      <td>0.800891</td>\n",
       "      <td>1.000000</td>\n",
       "      <td>0.321014</td>\n",
       "      <td>0.526347</td>\n",
       "      <td>0.0</td>\n",
       "      <td>1.0</td>\n",
       "      <td>0.0</td>\n",
       "      <td>1.0</td>\n",
       "      <td>0.0</td>\n",
       "      <td>0.0</td>\n",
       "      <td>0.0</td>\n",
       "      <td>0.0</td>\n",
       "      <td>0.0</td>\n",
       "      <td>0.0</td>\n",
       "      <td>1.0</td>\n",
       "      <td>0.0</td>\n",
       "      <td>0.0</td>\n",
       "      <td>0.0</td>\n",
       "      <td>0.0</td>\n",
       "      <td>1.0</td>\n",
       "      <td>0</td>\n",
       "    </tr>\n",
       "  </tbody>\n",
       "</table>\n",
       "<p>6101 rows × 28 columns</p>\n",
       "</div>"
      ],
      "text/plain": [
       "      CryoSleep       Age  VIP  RoomService  FoodCourt  ShoppingMall  \\\n",
       "3           0.0  0.804733  0.0     0.000000   0.694741      0.588099   \n",
       "4           0.0  0.646553  0.0     0.597392   0.413743      0.499171   \n",
       "5           0.0  0.868699  0.0     0.000000   0.600043      0.000000   \n",
       "6           0.0  0.752126  0.0     0.393021   0.712387      0.137742   \n",
       "7           1.0  0.768433  0.0     0.000000   0.000000      0.000000   \n",
       "...         ...       ...  ...          ...        ...           ...   \n",
       "8686        0.0  0.797920  0.0     0.072429   0.683790      0.000000   \n",
       "8688        0.0  0.852955  1.0     0.000000   0.856823      0.000000   \n",
       "8689        1.0  0.671935  0.0     0.000000   0.000000      0.000000   \n",
       "8690        0.0  0.752126  0.0     0.000000   0.000000      0.748704   \n",
       "8691        0.0  0.797920  0.0     0.000000   0.675214      0.000000   \n",
       "\n",
       "           Spa    VRDeck     Group  cabin_num  TotalSpent  HomePlanet_Earth  \\\n",
       "3     0.809679  0.522016  0.000216   0.000000    0.665997               0.0   \n",
       "4     0.632770  0.108866  0.000323   0.000528    0.564936               1.0   \n",
       "5     0.566700  0.000000  0.000431   0.000000    0.298540               1.0   \n",
       "6     0.000000  0.000000  0.000539   0.001056    0.314355               1.0   \n",
       "7     0.000000  0.000000  0.000539   0.000000    0.000000               1.0   \n",
       "...        ...       ...       ...        ...         ...               ...   \n",
       "8686  0.392507  0.352315  0.999461   0.051214    0.383287               0.0   \n",
       "8688  0.739216  0.427839  0.999569   0.051742    0.517336               0.0   \n",
       "8689  0.000000  0.000000  0.999784   0.791447    0.000000               1.0   \n",
       "8690  0.069196  0.000000  0.999892   0.791975    0.207147               1.0   \n",
       "8691  0.585921  0.800891  1.000000   0.321014    0.526347               0.0   \n",
       "\n",
       "      HomePlanet_Europa  HomePlanet_Mars  Destination_55 Cancri e  \\\n",
       "3                   1.0              0.0                      0.0   \n",
       "4                   0.0              0.0                      0.0   \n",
       "5                   0.0              0.0                      0.0   \n",
       "6                   0.0              0.0                      0.0   \n",
       "7                   0.0              0.0                      0.0   \n",
       "...                 ...              ...                      ...   \n",
       "8686                1.0              0.0                      0.0   \n",
       "8688                1.0              0.0                      1.0   \n",
       "8689                0.0              0.0                      0.0   \n",
       "8690                0.0              0.0                      0.0   \n",
       "8691                1.0              0.0                      1.0   \n",
       "\n",
       "      Destination_PSO J318.5-22  Destination_TRAPPIST-1e  deck_A  deck_B  \\\n",
       "3                           0.0                      1.0     1.0     0.0   \n",
       "4                           0.0                      1.0     0.0     0.0   \n",
       "5                           1.0                      0.0     0.0     0.0   \n",
       "6                           0.0                      1.0     0.0     0.0   \n",
       "7                           0.0                      1.0     0.0     0.0   \n",
       "...                         ...                      ...     ...     ...   \n",
       "8686                        0.0                      1.0     1.0     0.0   \n",
       "8688                        0.0                      0.0     1.0     0.0   \n",
       "8689                        1.0                      0.0     0.0     0.0   \n",
       "8690                        0.0                      1.0     0.0     0.0   \n",
       "8691                        0.0                      0.0     0.0     0.0   \n",
       "\n",
       "      deck_C  deck_D  deck_E  deck_F  deck_G  deck_T  side_P  side_S  \\\n",
       "3        0.0     0.0     0.0     0.0     0.0     0.0     0.0     1.0   \n",
       "4        0.0     0.0     0.0     1.0     0.0     0.0     0.0     1.0   \n",
       "5        0.0     0.0     0.0     1.0     0.0     0.0     1.0     0.0   \n",
       "6        0.0     0.0     0.0     1.0     0.0     0.0     0.0     1.0   \n",
       "7        0.0     0.0     0.0     0.0     1.0     0.0     0.0     1.0   \n",
       "...      ...     ...     ...     ...     ...     ...     ...     ...   \n",
       "8686     0.0     0.0     0.0     0.0     0.0     0.0     1.0     0.0   \n",
       "8688     0.0     0.0     0.0     0.0     0.0     0.0     1.0     0.0   \n",
       "8689     0.0     0.0     0.0     0.0     1.0     0.0     0.0     1.0   \n",
       "8690     0.0     0.0     0.0     0.0     1.0     0.0     0.0     1.0   \n",
       "8691     0.0     0.0     1.0     0.0     0.0     0.0     0.0     1.0   \n",
       "\n",
       "      Transported  \n",
       "3               0  \n",
       "4               1  \n",
       "5               1  \n",
       "6               1  \n",
       "7               1  \n",
       "...           ...  \n",
       "8686            0  \n",
       "8688            0  \n",
       "8689            0  \n",
       "8690            1  \n",
       "8691            0  \n",
       "\n",
       "[6101 rows x 28 columns]"
      ]
     },
     "execution_count": 34,
     "metadata": {},
     "output_type": "execute_result"
    }
   ],
   "source": [
    "train_data"
   ]
  },
  {
   "cell_type": "code",
   "execution_count": 35,
   "id": "2d10c029",
   "metadata": {
    "scrolled": false
   },
   "outputs": [
    {
     "name": "stdout",
     "output_type": "stream",
     "text": [
      "<class 'pandas.core.frame.DataFrame'>\n",
      "Int64Index: 6101 entries, 3 to 8691\n",
      "Data columns (total 28 columns):\n",
      " #   Column                     Non-Null Count  Dtype  \n",
      "---  ------                     --------------  -----  \n",
      " 0   CryoSleep                  6101 non-null   float64\n",
      " 1   Age                        6101 non-null   float64\n",
      " 2   VIP                        6101 non-null   float64\n",
      " 3   RoomService                6101 non-null   float64\n",
      " 4   FoodCourt                  6101 non-null   float64\n",
      " 5   ShoppingMall               6101 non-null   float64\n",
      " 6   Spa                        6101 non-null   float64\n",
      " 7   VRDeck                     6101 non-null   float64\n",
      " 8   Group                      6101 non-null   float64\n",
      " 9   cabin_num                  6101 non-null   float64\n",
      " 10  TotalSpent                 6101 non-null   float64\n",
      " 11  HomePlanet_Earth           6101 non-null   float64\n",
      " 12  HomePlanet_Europa          6101 non-null   float64\n",
      " 13  HomePlanet_Mars            6101 non-null   float64\n",
      " 14  Destination_55 Cancri e    6101 non-null   float64\n",
      " 15  Destination_PSO J318.5-22  6101 non-null   float64\n",
      " 16  Destination_TRAPPIST-1e    6101 non-null   float64\n",
      " 17  deck_A                     6101 non-null   float64\n",
      " 18  deck_B                     6101 non-null   float64\n",
      " 19  deck_C                     6101 non-null   float64\n",
      " 20  deck_D                     6101 non-null   float64\n",
      " 21  deck_E                     6101 non-null   float64\n",
      " 22  deck_F                     6101 non-null   float64\n",
      " 23  deck_G                     6101 non-null   float64\n",
      " 24  deck_T                     6101 non-null   float64\n",
      " 25  side_P                     6101 non-null   float64\n",
      " 26  side_S                     6101 non-null   float64\n",
      " 27  Transported                6101 non-null   int64  \n",
      "dtypes: float64(27), int64(1)\n",
      "memory usage: 1.3 MB\n"
     ]
    }
   ],
   "source": [
    "train_data.info()"
   ]
  },
  {
   "cell_type": "markdown",
   "id": "6ff5f4b3",
   "metadata": {},
   "source": [
    "Model: Logistic Regression"
   ]
  },
  {
   "cell_type": "code",
   "execution_count": null,
   "id": "51507c28",
   "metadata": {},
   "outputs": [],
   "source": [
    "lr = LogisticRegression(max_iter=10000)\n",
    "lr.fit(train_data.iloc[:, :-1], train_data[target])"
   ]
  },
  {
   "cell_type": "code",
   "execution_count": null,
   "id": "f8baf1d0",
   "metadata": {},
   "outputs": [],
   "source": [
    "prediction = lr.predict(test_data.iloc[:, :-1])"
   ]
  },
  {
   "cell_type": "code",
   "execution_count": null,
   "id": "bf772c0d",
   "metadata": {},
   "outputs": [],
   "source": [
    "accuracy = accuracy_score(test_data[target], prediction)\n",
    "print('Accuracy of {}'.format(accuracy))"
   ]
  },
  {
   "cell_type": "markdown",
   "id": "86beb750",
   "metadata": {},
   "source": [
    "Model: SVM (takes a while to run this though)"
   ]
  },
  {
   "cell_type": "code",
   "execution_count": null,
   "id": "95a2b284",
   "metadata": {},
   "outputs": [],
   "source": [
    "# param_grid = {\n",
    "#     'C': [0.1, 1, 10], # regularization parameter\n",
    "#     'kernel': ['linear', 'rbf'], # kernel type\n",
    "#     'gamma': [0.1, 1, 10] # kernel coefficient\n",
    "# }\n",
    "\n",
    "# svm = SVC()\n",
    "# grid_search = GridSearchCV(svm, param_grid, cv=5)\n",
    "# grid_search.fit(train_data.iloc[:, :-1], train_data[target])\n",
    "\n",
    "# grid_search.best_params_"
   ]
  },
  {
   "cell_type": "markdown",
   "id": "60301781",
   "metadata": {},
   "source": [
    "Model: TFDF"
   ]
  },
  {
   "cell_type": "code",
   "execution_count": null,
   "id": "cd2396a5",
   "metadata": {},
   "outputs": [],
   "source": [
    "# convert these to tensorflow datasets\n",
    "train_data = tfdf.keras.pd_dataframe_to_tf_dataset(train_data, label=target)\n",
    "test_data = tfdf.keras.pd_dataframe_to_tf_dataset(test_data, label=target)"
   ]
  },
  {
   "cell_type": "code",
   "execution_count": null,
   "id": "cc88f343",
   "metadata": {},
   "outputs": [],
   "source": [
    "rf = tfdf.keras.RandomForestModel()\n",
    "rf.fit(train_data)"
   ]
  },
  {
   "cell_type": "code",
   "execution_count": null,
   "id": "fee19947",
   "metadata": {},
   "outputs": [],
   "source": [
    "rf.summary()"
   ]
  },
  {
   "cell_type": "code",
   "execution_count": null,
   "id": "a0754d8b",
   "metadata": {},
   "outputs": [],
   "source": [
    "rf.compile(metrics=['accuracy'])\n",
    "evaluation = rf.evaluate(test_data, return_dict=True)\n",
    "display(evaluation)"
   ]
  },
  {
   "cell_type": "code",
   "execution_count": null,
   "id": "a58ae7af",
   "metadata": {},
   "outputs": [],
   "source": [
    "# tfdf.model_plotter.plot_model_in_colab(rf, tree_idx=0, max_depth=3)"
   ]
  },
  {
   "cell_type": "markdown",
   "id": "9ad5e119",
   "metadata": {},
   "source": [
    "Prediction"
   ]
  },
  {
   "cell_type": "code",
   "execution_count": null,
   "id": "0778afc5",
   "metadata": {},
   "outputs": [],
   "source": [
    "test = tfdf.keras.pd_dataframe_to_tf_dataset(test)\n",
    "predictions = rf.predict(test)\n",
    "output = pd.DataFrame({'PassengerId': test_id, 'Transported': predictions.squeeze()})\n",
    "# convert to boolean\n",
    "output[target] = (output[target] >= 0.5)"
   ]
  },
  {
   "cell_type": "code",
   "execution_count": null,
   "id": "2650d792",
   "metadata": {},
   "outputs": [],
   "source": [
    "output.info()"
   ]
  },
  {
   "cell_type": "code",
   "execution_count": null,
   "id": "02870ad7",
   "metadata": {},
   "outputs": [],
   "source": [
    "output.to_csv('data/sample_submission.csv', index=False)"
   ]
  },
  {
   "cell_type": "code",
   "execution_count": null,
   "id": "2c818e61",
   "metadata": {},
   "outputs": [],
   "source": []
  },
  {
   "cell_type": "code",
   "execution_count": null,
   "id": "fac6763a",
   "metadata": {},
   "outputs": [],
   "source": []
  },
  {
   "cell_type": "markdown",
   "id": "9863755d",
   "metadata": {},
   "source": [
    "Model : FNN  \n",
    "Feedforwrad Neural Network"
   ]
  },
  {
   "cell_type": "markdown",
   "id": "a09024c1",
   "metadata": {},
   "source": [
    "Parameters to optimize \n",
    "- layer size\n",
    "- neuron size\n",
    "- layer activation? skip this for now\n",
    "- output activation? skip this for now\n",
    "- epoch size\n",
    "- batch size\n",
    "- learn rate"
   ]
  },
  {
   "cell_type": "code",
   "execution_count": 43,
   "id": "8b2e494d",
   "metadata": {},
   "outputs": [],
   "source": [
    "def fnn_model(layer_size, neuron_size, epoch_size, batch_size, \n",
    "              layer_activation, output_activation, \n",
    "              feature_size, target_class_count,\n",
    "              train_data, target, test_data, learn_rate):\n",
    "    model = keras.Sequential([\n",
    "        keras.layers.Dense(layer_size, activation=layer_activation, \n",
    "                           input_shape=(feature_size,)),\n",
    "        keras.layers.Dense(neuron_size, activation=layer_activation),\n",
    "        keras.layers.Dense(target_class_count, activation=output_activation)\n",
    "    ])\n",
    "\n",
    "    # optimizer options: SGD, Adam, RMSprop, Adagrad, Adadelta, Nadam, Ftrl\n",
    "    optimizer = tf.keras.optimizers.SGD(learning_rate=learn_rate)\n",
    "\n",
    "    model.compile(optimizer=optimizer, loss='binary_crossentropy',\n",
    "                 metrics=['accuracy'])\n",
    "    \n",
    "    history = model.fit(train_data.drop(columns=target), train_data[target], \n",
    "                        epochs = epoch_size, batch_size=batch_size,\n",
    "                        validation_data=(test_data.drop(columns=target), test_data[target]),\n",
    "                       verbose=0)\n",
    "    \n",
    "    return history, model"
   ]
  },
  {
   "cell_type": "markdown",
   "id": "c24c1e53",
   "metadata": {},
   "source": [
    "Manual Hyperparameter Tuning"
   ]
  },
  {
   "cell_type": "code",
   "execution_count": null,
   "id": "d724d1c2",
   "metadata": {},
   "outputs": [],
   "source": [
    "# initialize parameters\n",
    "layer_list = [32,64]\n",
    "neuron_list = [4, 16, 64]\n",
    "epoch_list = [100]\n",
    "batch_list = [2,4,6]\n",
    "learn_list = [0.005, 0.01, 0.03]\n",
    "layer_activation = 'relu'\n",
    "output_activation = 'sigmoid'\n",
    "config_list = ['layer_size', 'neuron_size', 'epoch_size',\n",
    "              'batch_size', 'learn_rate', 'layer_activation',\n",
    "              'output_activation']\n",
    "\n",
    "total_iterations = (len(layer_list) * len(neuron_list) * len(epoch_list) * \n",
    "                    len(batch_list) * len(learn_list)) \n",
    "\n",
    "feature_size = train_data.shape[1]-1 # -1 cause target column\n",
    "target_class_count = len(train_data[target].unique())-1 # cause binary, 0 doesn't count\n",
    "\n",
    "history_df = []\n",
    "i = 0"
   ]
  },
  {
   "cell_type": "code",
   "execution_count": null,
   "id": "2d013dab",
   "metadata": {
    "scrolled": true
   },
   "outputs": [],
   "source": [
    "%%time\n",
    "\n",
    "print('# of configurations: ', total_iterations)\n",
    "for layer_size in layer_list:\n",
    "    for neuron_size in neuron_list:\n",
    "        for epoch_size in epoch_list:\n",
    "            for batch_size in batch_list:\n",
    "                for learn_rate in learn_list:\n",
    "                    start_time = time.time()\n",
    "                    history, model = fnn_model(layer_size, neuron_size, epoch_size, batch_size, \n",
    "                                               layer_activation, output_activation, \n",
    "                                               feature_size, target_class_count,\n",
    "                                               train_data, target, test_data, learn_rate)\n",
    "                    end_time = time.time()\n",
    "                    \n",
    "                    df = pd.DataFrame()\n",
    "\n",
    "                    df['epoch_round'] = [num+1 for num in range(epoch_size)]\n",
    "                    # add the passed parameters\n",
    "                    df['layer_size'] = layer_size\n",
    "                    df['neuron_size'] = neuron_size\n",
    "                    df['epoch_size'] = epoch_size\n",
    "                    df['batch_size'] = batch_size\n",
    "                    df['learn_rate'] = learn_rate\n",
    "                    df['layer_activation'] = layer_activation\n",
    "                    df['output_activation'] = output_activation\n",
    "\n",
    "                    # and now the performance outcomes\n",
    "                    df['training_loss'] = history.history['loss']\n",
    "                    df['training_accuracy'] = history.history['accuracy']\n",
    "                    df['val_loss'] = history.history['val_loss']\n",
    "                    df['val_accuracy'] = history.history['val_accuracy']\n",
    "                    \n",
    "                    # time variables\n",
    "                    df['timespent'] = end_time - start_time\n",
    "\n",
    "                    history_df.append(df)\n",
    "                    \n",
    "                    i += 1 \n",
    "                    \n",
    "                    print(i)\n",
    "                \n",
    "history_df = pd.concat(history_df)         "
   ]
  },
  {
   "cell_type": "code",
   "execution_count": null,
   "id": "e569bc53",
   "metadata": {},
   "outputs": [],
   "source": [
    "history_df.describe()"
   ]
  },
  {
   "cell_type": "code",
   "execution_count": null,
   "id": "ed9fc663",
   "metadata": {},
   "outputs": [],
   "source": [
    "history_df.sort_values('val_accuracy', ascending=False).head(25)"
   ]
  },
  {
   "cell_type": "code",
   "execution_count": null,
   "id": "3b61e8d7",
   "metadata": {},
   "outputs": [],
   "source": [
    "config_list = ['layer_size', 'neuron_size', 'epoch_size',\n",
    "              'batch_size', 'learn_rate', 'layer_activation',\n",
    "              'output_activation']"
   ]
  },
  {
   "cell_type": "code",
   "execution_count": null,
   "id": "19ca2a01",
   "metadata": {},
   "outputs": [],
   "source": [
    "config_results = history_df.drop('epoch_round', axis=1).groupby(config_list)"
   ]
  },
  {
   "cell_type": "code",
   "execution_count": null,
   "id": "8780e7f0",
   "metadata": {},
   "outputs": [],
   "source": [
    "config_results = config_results['val_accuracy'].agg(\n",
    "    min_val = 'min',\n",
    "    max_val = 'max',\n",
    "    average = 'mean',\n",
    "    median = 'median',\n",
    "    std_dev = 'std',\n",
    "    variance = 'var'\n",
    ").reset_index().sort_values('average', ascending=False)"
   ]
  },
  {
   "cell_type": "code",
   "execution_count": null,
   "id": "b4977f65",
   "metadata": {},
   "outputs": [],
   "source": [
    "config_results.head(25)"
   ]
  },
  {
   "cell_type": "code",
   "execution_count": null,
   "id": "f1527e37",
   "metadata": {},
   "outputs": [],
   "source": [
    "t = history_df.loc[(history_df['layer_size'] == 64)\n",
    "              & (history_df['neuron_size'] == 4)\n",
    "              & (history_df['batch_size'] == 2)\n",
    "              & (history_df['learn_rate'] == 0.03)]\n",
    "\n",
    "plt.figure(figsize=(12,8))\n",
    "plt.grid(True)\n",
    "\n",
    "plt.plot(t['epoch_round'], t['training_loss'], marker='o',\n",
    "        linestyle='-', color='blue', label='training_loss')\n",
    "plt.plot(t['epoch_round'], t['val_loss'], marker='o',\n",
    "        linestyle='-', color='green', label='val_loss')\n",
    "\n",
    "plt.xlabel('epoch_round')\n",
    "plt.ylabel('loss')\n",
    "plt.title('Loss visualized')\n",
    "\n",
    "legend = plt.legend()\n",
    "\n",
    "# Set the legend text color to white\n",
    "for text in legend.get_texts():\n",
    "    text.set_color('black')\n",
    "    \n",
    "plt.show()\n",
    "\n",
    "plt.figure(figsize=(12,8))\n",
    "plt.grid(True)\n",
    "\n",
    "plt.plot(t['epoch_round'], t['training_accuracy'], marker='o',\n",
    "        linestyle='-', color='blue', label='training_accuracy')\n",
    "plt.plot(t['epoch_round'], t['val_accuracy'], marker='o',\n",
    "        linestyle='-', color='green', label='val_accuracy')\n",
    "\n",
    "plt.xlabel('epoch_round')\n",
    "plt.ylabel('accuracy')\n",
    "plt.title('Accuracy visualized')\n",
    "\n",
    "legend = plt.legend()\n",
    "\n",
    "# Set the legend text color to white\n",
    "for text in legend.get_texts():\n",
    "    text.set_color('black')\n",
    "    \n",
    "plt.show()"
   ]
  },
  {
   "cell_type": "code",
   "execution_count": 44,
   "id": "e8b0be24",
   "metadata": {},
   "outputs": [],
   "source": [
    "# Manual hypterparameter tuning\n",
    "# Grid search with expert knowledge...\n",
    "layer_activation = 'relu'\n",
    "output_activation = 'sigmoid'\n",
    "\n",
    "feature_size = train_data.shape[1]-1 # -1 cause target column\n",
    "target_class_count = len(train_data[target].unique())-1 # cause binary, 0 doesn't count\n",
    "\n",
    "history, model = fnn_model(64, 4, 20, 2, \n",
    "              layer_activation, output_activation, \n",
    "              feature_size, target_class_count,\n",
    "              train_data, target, test_data, 0.04)"
   ]
  },
  {
   "cell_type": "code",
   "execution_count": null,
   "id": "37e697d0",
   "metadata": {},
   "outputs": [],
   "source": [
    "pd.Series(history.history['val_accuracy']).max()"
   ]
  },
  {
   "cell_type": "code",
   "execution_count": null,
   "id": "82728833",
   "metadata": {},
   "outputs": [],
   "source": [
    "predictions = model.predict(test)\n",
    "output = pd.DataFrame({'PassengerId': test_id, 'Transported': predictions.squeeze()})\n",
    "# convert to boolean\n",
    "output[target] = (output[target] > 0.5)\n",
    "output.info()"
   ]
  },
  {
   "cell_type": "code",
   "execution_count": null,
   "id": "95131002",
   "metadata": {},
   "outputs": [],
   "source": [
    "output.to_csv('data/sample_submission.csv', index=False)"
   ]
  },
  {
   "cell_type": "markdown",
   "id": "dd745199",
   "metadata": {},
   "source": [
    "Bayesian optimizations"
   ]
  },
  {
   "cell_type": "code",
   "execution_count": 110,
   "id": "acf281c0",
   "metadata": {},
   "outputs": [],
   "source": [
    "# Manual hypterparameter tuning\n",
    "# Grid search with expert knowledge...\n",
    "layer_activation = 'relu'\n",
    "output_activation = 'sigmoid'\n",
    "\n",
    "feature_size = train_data.shape[1]-1 # -1 cause target column\n",
    "target_class_count = len(train_data[target].unique())-1 # cause binary, 0 doesn't count\n",
    "\n",
    "def objective(trial):\n",
    "    # hyperparameter to optimize\n",
    "    layer_size = trial.suggest_int('layer_size', 4, 512)\n",
    "    neuron_size = trial.suggest_int('neuron_size', 2, 256)\n",
    "    batch_size = trial.suggest_int('batch_size', 2, 512)\n",
    "    learn_rate = trial.suggest_float('learn_rate', 0.001, 0.05)\n",
    "    epoch_size = trial.suggest_int('epoch_size', 20, 500)\n",
    "\n",
    "    # Create and train your machine learning model with the hyperparameters\n",
    "    history, _ = fnn_model(layer_size, neuron_size, epoch_size, batch_size, \n",
    "                  layer_activation, output_activation, \n",
    "                  feature_size, target_class_count,\n",
    "                  train_data, target, test_data, learn_rate)\n",
    "\n",
    "    # Calculate a performance metric to optimize (e.g., validation accuracy)\n",
    "    val_accuracy = history.history['val_accuracy'][-1]\n",
    "\n",
    "    return val_accuracy"
   ]
  },
  {
   "cell_type": "code",
   "execution_count": 111,
   "id": "fdded27f",
   "metadata": {},
   "outputs": [
    {
     "name": "stderr",
     "output_type": "stream",
     "text": [
      "[I 2023-10-08 11:25:16,359] A new study created in memory with name: no-name-338cb060-0aec-46c7-af95-9b12e3744669\n",
      "[I 2023-10-08 11:25:35,609] Trial 0 finished with value: 0.7797067761421204 and parameters: {'layer_size': 487, 'neuron_size': 15, 'batch_size': 203, 'learn_rate': 0.04072054514550381, 'epoch_size': 258}. Best is trial 0 with value: 0.7797067761421204.\n",
      "[I 2023-10-08 11:26:03,501] Trial 1 finished with value: 0.7943673133850098 and parameters: {'layer_size': 117, 'neuron_size': 92, 'batch_size': 192, 'learn_rate': 0.01555656372226167, 'epoch_size': 442}. Best is trial 1 with value: 0.7943673133850098.\n",
      "[I 2023-10-08 11:26:36,585] Trial 2 finished with value: 0.7943673133850098 and parameters: {'layer_size': 476, 'neuron_size': 113, 'batch_size': 226, 'learn_rate': 0.014805998657599611, 'epoch_size': 388}. Best is trial 1 with value: 0.7943673133850098.\n",
      "[I 2023-10-08 11:26:53,956] Trial 3 finished with value: 0.7878086566925049 and parameters: {'layer_size': 228, 'neuron_size': 48, 'batch_size': 473, 'learn_rate': 0.011584005815663958, 'epoch_size': 347}. Best is trial 1 with value: 0.7943673133850098.\n",
      "[I 2023-10-08 11:27:39,019] Trial 4 finished with value: 0.7881944179534912 and parameters: {'layer_size': 326, 'neuron_size': 119, 'batch_size': 88, 'learn_rate': 0.03776168822898919, 'epoch_size': 392}. Best is trial 1 with value: 0.7943673133850098.\n",
      "[I 2023-10-08 11:27:49,872] Trial 5 finished with value: 0.7658178806304932 and parameters: {'layer_size': 196, 'neuron_size': 127, 'batch_size': 405, 'learn_rate': 0.006010398633493774, 'epoch_size': 180}. Best is trial 1 with value: 0.7943673133850098.\n",
      "[I 2023-10-08 11:28:00,681] Trial 6 finished with value: 0.7685185074806213 and parameters: {'layer_size': 260, 'neuron_size': 143, 'batch_size': 501, 'learn_rate': 0.009009409855471794, 'epoch_size': 176}. Best is trial 1 with value: 0.7943673133850098.\n",
      "[I 2023-10-08 11:28:40,194] Trial 7 finished with value: 0.7908950448036194 and parameters: {'layer_size': 123, 'neuron_size': 139, 'batch_size': 31, 'learn_rate': 0.03969050647719019, 'epoch_size': 177}. Best is trial 1 with value: 0.7943673133850098.\n",
      "[I 2023-10-08 11:28:55,157] Trial 8 finished with value: 0.8016975522041321 and parameters: {'layer_size': 67, 'neuron_size': 63, 'batch_size': 222, 'learn_rate': 0.04926106042888435, 'epoch_size': 282}. Best is trial 8 with value: 0.8016975522041321.\n",
      "[I 2023-10-08 11:29:12,467] Trial 9 finished with value: 0.7959104776382446 and parameters: {'layer_size': 150, 'neuron_size': 7, 'batch_size': 421, 'learn_rate': 0.03900007601950815, 'epoch_size': 412}. Best is trial 8 with value: 0.8016975522041321.\n",
      "[I 2023-10-08 11:29:15,095] Trial 10 finished with value: 0.7461419701576233 and parameters: {'layer_size': 6, 'neuron_size': 225, 'batch_size': 322, 'learn_rate': 0.049909166717651096, 'epoch_size': 37}. Best is trial 8 with value: 0.8016975522041321.\n",
      "[I 2023-10-08 11:29:35,958] Trial 11 finished with value: 0.7905092835426331 and parameters: {'layer_size': 28, 'neuron_size': 2, 'batch_size': 350, 'learn_rate': 0.04999689014708551, 'epoch_size': 500}. Best is trial 8 with value: 0.8016975522041321.\n",
      "[I 2023-10-08 11:29:50,551] Trial 12 finished with value: 0.7943673133850098 and parameters: {'layer_size': 104, 'neuron_size': 60, 'batch_size': 300, 'learn_rate': 0.03009657204317133, 'epoch_size': 304}. Best is trial 8 with value: 0.8016975522041321.\n",
      "[I 2023-10-08 11:30:06,658] Trial 13 finished with value: 0.7951388955116272 and parameters: {'layer_size': 80, 'neuron_size': 48, 'batch_size': 140, 'learn_rate': 0.026853426751227025, 'epoch_size': 243}. Best is trial 8 with value: 0.8016975522041321.\n",
      "[I 2023-10-08 11:30:30,415] Trial 14 finished with value: 0.7870370149612427 and parameters: {'layer_size': 176, 'neuron_size': 66, 'batch_size': 390, 'learn_rate': 0.04432854814818507, 'epoch_size': 497}. Best is trial 8 with value: 0.8016975522041321.\n",
      "[I 2023-10-08 11:30:36,759] Trial 15 finished with value: 0.7866512537002563 and parameters: {'layer_size': 298, 'neuron_size': 175, 'batch_size': 272, 'learn_rate': 0.03211492971352903, 'epoch_size': 82}. Best is trial 8 with value: 0.8016975522041321.\n",
      "[I 2023-10-08 11:30:52,723] Trial 16 finished with value: 0.7982252836227417 and parameters: {'layer_size': 347, 'neuron_size': 29, 'batch_size': 447, 'learn_rate': 0.04398793819488937, 'epoch_size': 313}. Best is trial 8 with value: 0.8016975522041321.\n",
      "[I 2023-10-08 11:31:21,720] Trial 17 finished with value: 0.7824074029922485 and parameters: {'layer_size': 392, 'neuron_size': 86, 'batch_size': 151, 'learn_rate': 0.04563955231801938, 'epoch_size': 315}. Best is trial 8 with value: 0.8016975522041321.\n",
      "[I 2023-10-08 11:31:39,015] Trial 18 finished with value: 0.7943673133850098 and parameters: {'layer_size': 390, 'neuron_size': 32, 'batch_size': 449, 'learn_rate': 0.03438260293412287, 'epoch_size': 286}. Best is trial 8 with value: 0.8016975522041321.\n",
      "[I 2023-10-08 11:31:56,517] Trial 19 finished with value: 0.792438268661499 and parameters: {'layer_size': 355, 'neuron_size': 175, 'batch_size': 368, 'learn_rate': 0.022701195719826935, 'epoch_size': 226}. Best is trial 8 with value: 0.8016975522041321.\n",
      "[I 2023-10-08 11:32:06,039] Trial 20 finished with value: 0.7827932238578796 and parameters: {'layer_size': 421, 'neuron_size': 82, 'batch_size': 290, 'learn_rate': 0.04421431015951561, 'epoch_size': 115}. Best is trial 8 with value: 0.8016975522041321.\n",
      "[I 2023-10-08 11:32:19,703] Trial 21 finished with value: 0.7889660596847534 and parameters: {'layer_size': 60, 'neuron_size': 24, 'batch_size': 427, 'learn_rate': 0.037184844820852686, 'epoch_size': 367}. Best is trial 8 with value: 0.8016975522041321.\n",
      "[I 2023-10-08 11:32:38,200] Trial 22 finished with value: 0.7978395223617554 and parameters: {'layer_size': 163, 'neuron_size': 3, 'batch_size': 509, 'learn_rate': 0.04307123194908205, 'epoch_size': 436}. Best is trial 8 with value: 0.8016975522041321.\n",
      "[I 2023-10-08 11:33:04,615] Trial 23 finished with value: 0.7993826866149902 and parameters: {'layer_size': 265, 'neuron_size': 35, 'batch_size': 508, 'learn_rate': 0.04631887883716954, 'epoch_size': 452}. Best is trial 8 with value: 0.8016975522041321.\n",
      "[I 2023-10-08 11:33:24,445] Trial 24 finished with value: 0.7959104776382446 and parameters: {'layer_size': 279, 'neuron_size': 44, 'batch_size': 482, 'learn_rate': 0.04703433233355588, 'epoch_size': 313}. Best is trial 8 with value: 0.8016975522041321.\n",
      "[I 2023-10-08 11:33:50,353] Trial 25 finished with value: 0.7893518805503845 and parameters: {'layer_size': 320, 'neuron_size': 73, 'batch_size': 336, 'learn_rate': 0.04771494173918015, 'epoch_size': 346}. Best is trial 8 with value: 0.8016975522041321.\n",
      "[I 2023-10-08 11:34:21,135] Trial 26 finished with value: 0.7874228358268738 and parameters: {'layer_size': 239, 'neuron_size': 30, 'batch_size': 239, 'learn_rate': 0.0425221220021339, 'epoch_size': 450}. Best is trial 8 with value: 0.8016975522041321.\n",
      "[I 2023-10-08 11:34:42,034] Trial 27 finished with value: 0.7951388955116272 and parameters: {'layer_size': 354, 'neuron_size': 101, 'batch_size': 443, 'learn_rate': 0.04661536356558662, 'epoch_size': 205}. Best is trial 8 with value: 0.8016975522041321.\n",
      "[I 2023-10-08 11:35:07,523] Trial 28 finished with value: 0.8020833134651184 and parameters: {'layer_size': 198, 'neuron_size': 57, 'batch_size': 130, 'learn_rate': 0.041363591824859255, 'epoch_size': 281}. Best is trial 28 with value: 0.8020833134651184.\n",
      "[I 2023-10-08 11:35:30,335] Trial 29 finished with value: 0.8028549551963806 and parameters: {'layer_size': 203, 'neuron_size': 247, 'batch_size': 179, 'learn_rate': 0.040688095617670866, 'epoch_size': 266}. Best is trial 29 with value: 0.8028549551963806.\n",
      "[I 2023-10-08 11:35:59,800] Trial 30 finished with value: 0.8005401492118835 and parameters: {'layer_size': 208, 'neuron_size': 200, 'batch_size': 177, 'learn_rate': 0.04009577035332444, 'epoch_size': 262}. Best is trial 29 with value: 0.8028549551963806.\n",
      "[I 2023-10-08 11:36:26,284] Trial 31 finished with value: 0.803626537322998 and parameters: {'layer_size': 209, 'neuron_size': 247, 'batch_size': 168, 'learn_rate': 0.04151968851915776, 'epoch_size': 259}. Best is trial 31 with value: 0.803626537322998.\n"
     ]
    },
    {
     "name": "stderr",
     "output_type": "stream",
     "text": [
      "[I 2023-10-08 11:36:55,938] Trial 32 finished with value: 0.7797067761421204 and parameters: {'layer_size': 147, 'neuron_size': 255, 'batch_size': 95, 'learn_rate': 0.03594141183258075, 'epoch_size': 273}. Best is trial 31 with value: 0.803626537322998.\n",
      "[I 2023-10-08 11:37:16,412] Trial 33 finished with value: 0.7989969253540039 and parameters: {'layer_size': 205, 'neuron_size': 245, 'batch_size': 211, 'learn_rate': 0.04135630209309766, 'epoch_size': 227}. Best is trial 31 with value: 0.803626537322998.\n",
      "[I 2023-10-08 11:37:31,367] Trial 34 finished with value: 0.7993826866149902 and parameters: {'layer_size': 80, 'neuron_size': 237, 'batch_size': 126, 'learn_rate': 0.04009950869563374, 'epoch_size': 140}. Best is trial 31 with value: 0.803626537322998.\n",
      "[I 2023-10-08 11:38:03,328] Trial 35 finished with value: 0.7986111044883728 and parameters: {'layer_size': 236, 'neuron_size': 208, 'batch_size': 192, 'learn_rate': 0.04188507756343654, 'epoch_size': 341}. Best is trial 31 with value: 0.803626537322998.\n",
      "[I 2023-10-08 11:38:34,484] Trial 36 finished with value: 0.7943673133850098 and parameters: {'layer_size': 125, 'neuron_size': 217, 'batch_size': 76, 'learn_rate': 0.03564119284043299, 'epoch_size': 246}. Best is trial 31 with value: 0.803626537322998.\n",
      "[I 2023-10-08 11:38:58,445] Trial 37 finished with value: 0.7862654328346252 and parameters: {'layer_size': 177, 'neuron_size': 189, 'batch_size': 164, 'learn_rate': 0.03783846111535888, 'epoch_size': 279}. Best is trial 31 with value: 0.803626537322998.\n",
      "[I 2023-10-08 11:39:19,597] Trial 38 finished with value: 0.7928240895271301 and parameters: {'layer_size': 498, 'neuron_size': 152, 'batch_size': 236, 'learn_rate': 0.033332983167346335, 'epoch_size': 207}. Best is trial 31 with value: 0.803626537322998.\n",
      "[I 2023-10-08 11:39:32,524] Trial 39 finished with value: 0.7978395223617554 and parameters: {'layer_size': 210, 'neuron_size': 114, 'batch_size': 113, 'learn_rate': 0.037923966145005074, 'epoch_size': 144}. Best is trial 31 with value: 0.803626537322998.\n",
      "[I 2023-10-08 11:40:06,625] Trial 40 finished with value: 0.7959104776382446 and parameters: {'layer_size': 54, 'neuron_size': 232, 'batch_size': 58, 'learn_rate': 0.04854071802064538, 'epoch_size': 216}. Best is trial 31 with value: 0.803626537322998.\n",
      "[I 2023-10-08 11:40:38,395] Trial 41 finished with value: 0.7955247163772583 and parameters: {'layer_size': 194, 'neuron_size': 196, 'batch_size': 183, 'learn_rate': 0.04045817271059698, 'epoch_size': 266}. Best is trial 31 with value: 0.803626537322998.\n",
      "[I 2023-10-08 11:40:59,401] Trial 42 finished with value: 0.8005401492118835 and parameters: {'layer_size': 221, 'neuron_size': 255, 'batch_size': 180, 'learn_rate': 0.04096739885128015, 'epoch_size': 255}. Best is trial 31 with value: 0.803626537322998.\n",
      "[I 2023-10-08 11:41:23,852] Trial 43 finished with value: 0.8040123581886292 and parameters: {'layer_size': 286, 'neuron_size': 210, 'batch_size': 217, 'learn_rate': 0.045045186564377296, 'epoch_size': 295}. Best is trial 43 with value: 0.8040123581886292.\n",
      "[I 2023-10-08 11:41:54,243] Trial 44 finished with value: 0.7280092835426331 and parameters: {'layer_size': 250, 'neuron_size': 242, 'batch_size': 254, 'learn_rate': 0.0490682944314567, 'epoch_size': 300}. Best is trial 43 with value: 0.8040123581886292.\n",
      "[I 2023-10-08 11:42:51,103] Trial 45 finished with value: 0.8005401492118835 and parameters: {'layer_size': 300, 'neuron_size': 225, 'batch_size': 221, 'learn_rate': 0.04516627337937088, 'epoch_size': 355}. Best is trial 43 with value: 0.8040123581886292.\n",
      "[I 2023-10-08 11:43:18,856] Trial 46 finished with value: 0.8040123581886292 and parameters: {'layer_size': 133, 'neuron_size': 102, 'batch_size': 143, 'learn_rate': 0.04794107550103843, 'epoch_size': 391}. Best is trial 43 with value: 0.8040123581886292.\n",
      "[I 2023-10-08 11:45:00,898] Trial 47 finished with value: 0.7858796119689941 and parameters: {'layer_size': 141, 'neuron_size': 128, 'batch_size': 26, 'learn_rate': 0.042667741477716216, 'epoch_size': 397}. Best is trial 43 with value: 0.8040123581886292.\n",
      "[I 2023-10-08 11:45:27,874] Trial 48 finished with value: 0.7993826866149902 and parameters: {'layer_size': 176, 'neuron_size': 104, 'batch_size': 119, 'learn_rate': 0.045166045930737905, 'epoch_size': 328}. Best is trial 43 with value: 0.8040123581886292.\n",
      "[I 2023-10-08 11:46:05,234] Trial 49 finished with value: 0.7959104776382446 and parameters: {'layer_size': 115, 'neuron_size': 164, 'batch_size': 152, 'learn_rate': 0.04743142771633774, 'epoch_size': 383}. Best is trial 43 with value: 0.8040123581886292.\n",
      "[I 2023-10-08 11:46:23,549] Trial 50 finished with value: 0.7982252836227417 and parameters: {'layer_size': 268, 'neuron_size': 215, 'batch_size': 206, 'learn_rate': 0.03825198527919017, 'epoch_size': 188}. Best is trial 43 with value: 0.8040123581886292.\n",
      "[I 2023-10-08 11:46:39,889] Trial 51 finished with value: 0.8016975522041321 and parameters: {'layer_size': 24, 'neuron_size': 52, 'batch_size': 163, 'learn_rate': 0.04943532966313177, 'epoch_size': 282}. Best is trial 43 with value: 0.8040123581886292.\n",
      "[I 2023-10-08 11:46:51,657] Trial 52 finished with value: 0.8009259104728699 and parameters: {'layer_size': 95, 'neuron_size': 73, 'batch_size': 261, 'learn_rate': 0.04309680087412446, 'epoch_size': 239}. Best is trial 43 with value: 0.8040123581886292.\n",
      "[I 2023-10-08 11:47:16,314] Trial 53 finished with value: 0.8051697611808777 and parameters: {'layer_size': 133, 'neuron_size': 138, 'batch_size': 136, 'learn_rate': 0.045512533347166644, 'epoch_size': 325}. Best is trial 53 with value: 0.8051697611808777.\n",
      "[I 2023-10-08 11:48:00,990] Trial 54 finished with value: 0.8020833134651184 and parameters: {'layer_size': 131, 'neuron_size': 153, 'batch_size': 136, 'learn_rate': 0.04513285261911727, 'epoch_size': 330}. Best is trial 53 with value: 0.8051697611808777.\n",
      "[I 2023-10-08 11:48:31,493] Trial 55 finished with value: 0.8005401492118835 and parameters: {'layer_size': 190, 'neuron_size': 140, 'batch_size': 94, 'learn_rate': 0.04374659452494423, 'epoch_size': 295}. Best is trial 53 with value: 0.8051697611808777.\n",
      "[I 2023-10-08 11:49:35,297] Trial 56 finished with value: 0.7939814925193787 and parameters: {'layer_size': 162, 'neuron_size': 185, 'batch_size': 68, 'learn_rate': 0.03969644938716975, 'epoch_size': 379}. Best is trial 53 with value: 0.8051697611808777.\n",
      "[I 2023-10-08 11:50:45,766] Trial 57 finished with value: 0.65625 and parameters: {'layer_size': 223, 'neuron_size': 96, 'batch_size': 50, 'learn_rate': 0.047243646921610725, 'epoch_size': 423}. Best is trial 53 with value: 0.8051697611808777.\n",
      "[I 2023-10-08 11:51:34,932] Trial 58 finished with value: 0.7986111044883728 and parameters: {'layer_size': 289, 'neuron_size': 225, 'batch_size': 112, 'learn_rate': 0.04574916935566364, 'epoch_size': 475}. Best is trial 53 with value: 0.8051697611808777.\n",
      "[I 2023-10-08 11:52:01,903] Trial 59 finished with value: 0.7920524477958679 and parameters: {'layer_size': 155, 'neuron_size': 247, 'batch_size': 150, 'learn_rate': 0.049794497077077914, 'epoch_size': 310}. Best is trial 53 with value: 0.8051697611808777.\n",
      "[I 2023-10-08 11:52:26,924] Trial 60 finished with value: 0.7827932238578796 and parameters: {'layer_size': 99, 'neuron_size': 120, 'batch_size': 200, 'learn_rate': 0.04361387779296191, 'epoch_size': 408}. Best is trial 53 with value: 0.8051697611808777.\n",
      "[I 2023-10-08 11:53:17,426] Trial 61 finished with value: 0.7851080298423767 and parameters: {'layer_size': 137, 'neuron_size': 152, 'batch_size': 126, 'learn_rate': 0.04464904223095514, 'epoch_size': 330}. Best is trial 53 with value: 0.8051697611808777.\n",
      "[I 2023-10-08 11:53:44,556] Trial 62 finished with value: 0.7939814925193787 and parameters: {'layer_size': 125, 'neuron_size': 160, 'batch_size': 138, 'learn_rate': 0.04208979445294903, 'epoch_size': 361}. Best is trial 53 with value: 0.8051697611808777.\n",
      "[I 2023-10-08 11:54:07,412] Trial 63 finished with value: 0.8005401492118835 and parameters: {'layer_size': 170, 'neuron_size': 108, 'batch_size': 167, 'learn_rate': 0.045646229158966774, 'epoch_size': 328}. Best is trial 53 with value: 0.8051697611808777.\n",
      "[I 2023-10-08 11:58:17,982] Trial 64 finished with value: 0.7754629850387573 and parameters: {'layer_size': 254, 'neuron_size': 135, 'batch_size': 7, 'learn_rate': 0.04769730794850555, 'epoch_size': 286}. Best is trial 53 with value: 0.8051697611808777.\n"
     ]
    },
    {
     "name": "stderr",
     "output_type": "stream",
     "text": [
      "[I 2023-10-08 11:58:35,468] Trial 65 finished with value: 0.8051697611808777 and parameters: {'layer_size': 193, 'neuron_size': 17, 'batch_size': 139, 'learn_rate': 0.04132535436457871, 'epoch_size': 254}. Best is trial 53 with value: 0.8051697611808777.\n",
      "[I 2023-10-08 11:58:59,328] Trial 66 finished with value: 0.8024691343307495 and parameters: {'layer_size': 190, 'neuron_size': 13, 'batch_size': 109, 'learn_rate': 0.04149706536163626, 'epoch_size': 252}. Best is trial 53 with value: 0.8051697611808777.\n",
      "[I 2023-10-08 11:59:20,142] Trial 67 finished with value: 0.7974537014961243 and parameters: {'layer_size': 182, 'neuron_size': 16, 'batch_size': 91, 'learn_rate': 0.03881361003094473, 'epoch_size': 233}. Best is trial 53 with value: 0.8051697611808777.\n",
      "[I 2023-10-08 11:59:42,882] Trial 68 finished with value: 0.8024691343307495 and parameters: {'layer_size': 321, 'neuron_size': 13, 'batch_size': 104, 'learn_rate': 0.036429645963215906, 'epoch_size': 254}. Best is trial 53 with value: 0.8051697611808777.\n",
      "[I 2023-10-08 11:59:45,094] Trial 69 finished with value: 0.78125 and parameters: {'layer_size': 244, 'neuron_size': 45, 'batch_size': 150, 'learn_rate': 0.03930292435403195, 'epoch_size': 22}. Best is trial 53 with value: 0.8051697611808777.\n",
      "[I 2023-10-08 12:00:06,613] Trial 70 finished with value: 0.7916666865348816 and parameters: {'layer_size': 218, 'neuron_size': 232, 'batch_size': 219, 'learn_rate': 0.042580444334502116, 'epoch_size': 167}. Best is trial 53 with value: 0.8051697611808777.\n",
      "[I 2023-10-08 12:00:43,506] Trial 71 finished with value: 0.803626537322998 and parameters: {'layer_size': 320, 'neuron_size': 21, 'batch_size': 106, 'learn_rate': 0.04133390736543441, 'epoch_size': 262}. Best is trial 53 with value: 0.8051697611808777.\n",
      "[I 2023-10-08 12:01:19,589] Trial 72 finished with value: 0.8009259104728699 and parameters: {'layer_size': 341, 'neuron_size': 21, 'batch_size': 171, 'learn_rate': 0.04122163335782354, 'epoch_size': 267}. Best is trial 53 with value: 0.8051697611808777.\n",
      "[I 2023-10-08 12:01:50,057] Trial 73 finished with value: 0.7874228358268738 and parameters: {'layer_size': 308, 'neuron_size': 10, 'batch_size': 78, 'learn_rate': 0.04387530754550917, 'epoch_size': 216}. Best is trial 53 with value: 0.8051697611808777.\n",
      "[I 2023-10-08 12:02:13,785] Trial 74 finished with value: 0.803626537322998 and parameters: {'layer_size': 230, 'neuron_size': 24, 'batch_size': 192, 'learn_rate': 0.04678543156559794, 'epoch_size': 244}. Best is trial 53 with value: 0.8051697611808777.\n",
      "[I 2023-10-08 12:02:37,237] Trial 75 finished with value: 0.7974537014961243 and parameters: {'layer_size': 375, 'neuron_size': 34, 'batch_size': 192, 'learn_rate': 0.04657867804147703, 'epoch_size': 190}. Best is trial 53 with value: 0.8051697611808777.\n",
      "[I 2023-10-08 12:03:03,442] Trial 76 finished with value: 0.8016975522041321 and parameters: {'layer_size': 277, 'neuron_size': 41, 'batch_size': 191, 'learn_rate': 0.04849839982036698, 'epoch_size': 292}. Best is trial 53 with value: 0.8051697611808777.\n",
      "[I 2023-10-08 12:03:20,642] Trial 77 finished with value: 0.7800925970077515 and parameters: {'layer_size': 334, 'neuron_size': 22, 'batch_size': 156, 'learn_rate': 0.04648389913948806, 'epoch_size': 238}. Best is trial 53 with value: 0.8051697611808777.\n",
      "[I 2023-10-08 12:03:38,512] Trial 78 finished with value: 0.7989969253540039 and parameters: {'layer_size': 280, 'neuron_size': 5, 'batch_size': 284, 'learn_rate': 0.04345017398696861, 'epoch_size': 304}. Best is trial 53 with value: 0.8051697611808777.\n",
      "[I 2023-10-08 12:03:51,161] Trial 79 finished with value: 0.8043981194496155 and parameters: {'layer_size': 237, 'neuron_size': 209, 'batch_size': 242, 'learn_rate': 0.04807889676088469, 'epoch_size': 200}. Best is trial 53 with value: 0.8051697611808777.\n",
      "[I 2023-10-08 12:04:01,815] Trial 80 finished with value: 0.7939814925193787 and parameters: {'layer_size': 233, 'neuron_size': 173, 'batch_size': 258, 'learn_rate': 0.04818046093782274, 'epoch_size': 168}. Best is trial 53 with value: 0.8051697611808777.\n",
      "[I 2023-10-08 12:04:16,630] Trial 81 finished with value: 0.7947530746459961 and parameters: {'layer_size': 261, 'neuron_size': 207, 'batch_size': 239, 'learn_rate': 0.0446861654259115, 'epoch_size': 223}. Best is trial 53 with value: 0.8051697611808777.\n",
      "[I 2023-10-08 12:04:33,558] Trial 82 finished with value: 0.7932098507881165 and parameters: {'layer_size': 211, 'neuron_size': 250, 'batch_size': 308, 'learn_rate': 0.04603456952632997, 'epoch_size': 268}. Best is trial 53 with value: 0.8051697611808777.\n",
      "[I 2023-10-08 12:04:54,027] Trial 83 finished with value: 0.7962962985038757 and parameters: {'layer_size': 310, 'neuron_size': 185, 'batch_size': 232, 'learn_rate': 0.049832685857391264, 'epoch_size': 199}. Best is trial 53 with value: 0.8051697611808777.\n",
      "[I 2023-10-08 12:05:21,778] Trial 84 finished with value: 0.8001543283462524 and parameters: {'layer_size': 232, 'neuron_size': 216, 'batch_size': 211, 'learn_rate': 0.047508410757285326, 'epoch_size': 245}. Best is trial 53 with value: 0.8051697611808777.\n",
      "[I 2023-10-08 12:05:50,815] Trial 85 finished with value: 0.7893518805503845 and parameters: {'layer_size': 201, 'neuron_size': 237, 'batch_size': 181, 'learn_rate': 0.040015738288970516, 'epoch_size': 273}. Best is trial 53 with value: 0.8051697611808777.\n",
      "[I 2023-10-08 12:06:13,702] Trial 86 finished with value: 0.7870370149612427 and parameters: {'layer_size': 240, 'neuron_size': 82, 'batch_size': 244, 'learn_rate': 0.04243303590685507, 'epoch_size': 254}. Best is trial 53 with value: 0.8051697611808777.\n",
      "[I 2023-10-08 12:06:34,930] Trial 87 finished with value: 0.7986111044883728 and parameters: {'layer_size': 467, 'neuron_size': 26, 'batch_size': 146, 'learn_rate': 0.048659688885356614, 'epoch_size': 221}. Best is trial 53 with value: 0.8051697611808777.\n",
      "[I 2023-10-08 12:06:55,921] Trial 88 finished with value: 0.8067129850387573 and parameters: {'layer_size': 110, 'neuron_size': 198, 'batch_size': 204, 'learn_rate': 0.04645155314066818, 'epoch_size': 320}. Best is trial 88 with value: 0.8067129850387573.\n",
      "[I 2023-10-08 12:07:21,830] Trial 89 finished with value: 0.7966821193695068 and parameters: {'layer_size': 112, 'neuron_size': 199, 'batch_size': 127, 'learn_rate': 0.04660923994124431, 'epoch_size': 318}. Best is trial 88 with value: 0.8067129850387573.\n",
      "[I 2023-10-08 12:07:44,280] Trial 90 finished with value: 0.7986111044883728 and parameters: {'layer_size': 87, 'neuron_size': 207, 'batch_size': 273, 'learn_rate': 0.04444758567179214, 'epoch_size': 368}. Best is trial 88 with value: 0.8067129850387573.\n",
      "[I 2023-10-08 12:08:06,129] Trial 91 finished with value: 0.8047839403152466 and parameters: {'layer_size': 70, 'neuron_size': 222, 'batch_size': 201, 'learn_rate': 0.045636550383344174, 'epoch_size': 349}. Best is trial 88 with value: 0.8067129850387573.\n",
      "[I 2023-10-08 12:08:26,247] Trial 92 finished with value: 0.8028549551963806 and parameters: {'layer_size': 68, 'neuron_size': 193, 'batch_size': 205, 'learn_rate': 0.04846608671582544, 'epoch_size': 337}. Best is trial 88 with value: 0.8067129850387573.\n",
      "[I 2023-10-08 12:08:45,161] Trial 93 finished with value: 0.7970678806304932 and parameters: {'layer_size': 73, 'neuron_size': 221, 'batch_size': 224, 'learn_rate': 0.04578136096774608, 'epoch_size': 318}. Best is trial 88 with value: 0.8067129850387573.\n",
      "[I 2023-10-08 12:09:11,481] Trial 94 finished with value: 0.8005401492118835 and parameters: {'layer_size': 156, 'neuron_size': 231, 'batch_size': 194, 'learn_rate': 0.047124155394163536, 'epoch_size': 343}. Best is trial 88 with value: 0.8067129850387573.\n",
      "[I 2023-10-08 12:09:30,928] Trial 95 finished with value: 0.7986111044883728 and parameters: {'layer_size': 43, 'neuron_size': 210, 'batch_size': 159, 'learn_rate': 0.044603474130273296, 'epoch_size': 297}. Best is trial 88 with value: 0.8067129850387573.\n",
      "[I 2023-10-08 12:10:01,361] Trial 96 finished with value: 0.7955247163772583 and parameters: {'layer_size': 104, 'neuron_size': 201, 'batch_size': 176, 'learn_rate': 0.04310220685288126, 'epoch_size': 370}. Best is trial 88 with value: 0.8067129850387573.\n",
      "[I 2023-10-08 12:10:18,616] Trial 97 finished with value: 0.8005401492118835 and parameters: {'layer_size': 52, 'neuron_size': 71, 'batch_size': 216, 'learn_rate': 0.048893417732408025, 'epoch_size': 354}. Best is trial 88 with value: 0.8067129850387573.\n"
     ]
    },
    {
     "name": "stderr",
     "output_type": "stream",
     "text": [
      "[I 2023-10-08 12:10:44,664] Trial 98 finished with value: 0.8024691343307495 and parameters: {'layer_size': 145, 'neuron_size': 180, 'batch_size': 139, 'learn_rate': 0.04554021235102636, 'epoch_size': 307}. Best is trial 88 with value: 0.8067129850387573.\n",
      "[I 2023-10-08 12:11:10,666] Trial 99 finished with value: 0.8032407164573669 and parameters: {'layer_size': 291, 'neuron_size': 222, 'batch_size': 251, 'learn_rate': 0.0478160622165866, 'epoch_size': 206}. Best is trial 88 with value: 0.8067129850387573.\n"
     ]
    },
    {
     "name": "stdout",
     "output_type": "stream",
     "text": [
      "CPU times: user 1h 5min 22s, sys: 19min 59s, total: 1h 25min 21s\n",
      "Wall time: 45min 54s\n"
     ]
    }
   ],
   "source": [
    "%%time\n",
    "study = optuna.create_study(direction='maximize')\n",
    "study.optimize(objective, n_trials=100)"
   ]
  },
  {
   "cell_type": "code",
   "execution_count": 112,
   "id": "76408c2b",
   "metadata": {},
   "outputs": [],
   "source": [
    "best_params = study.best_params\n",
    "best_value = study.best_value"
   ]
  },
  {
   "cell_type": "code",
   "execution_count": 113,
   "id": "717e16a6",
   "metadata": {},
   "outputs": [
    {
     "data": {
      "text/plain": [
       "{'layer_size': 110,\n",
       " 'neuron_size': 198,\n",
       " 'batch_size': 204,\n",
       " 'learn_rate': 0.04645155314066818,\n",
       " 'epoch_size': 320}"
      ]
     },
     "execution_count": 113,
     "metadata": {},
     "output_type": "execute_result"
    }
   ],
   "source": [
    "best_params"
   ]
  },
  {
   "cell_type": "code",
   "execution_count": 114,
   "id": "ee6e93f1",
   "metadata": {},
   "outputs": [
    {
     "data": {
      "text/plain": [
       "0.8067129850387573"
      ]
     },
     "execution_count": 114,
     "metadata": {},
     "output_type": "execute_result"
    }
   ],
   "source": [
    "best_value"
   ]
  },
  {
   "cell_type": "code",
   "execution_count": 115,
   "id": "ac828c14",
   "metadata": {},
   "outputs": [],
   "source": [
    "# Manual hypterparameter tuning\n",
    "# Grid search with expert knowledge...\n",
    "layer_activation = 'relu'\n",
    "output_activation = 'sigmoid'\n",
    "\n",
    "feature_size = train_data.shape[1]-1 # -1 cause target column\n",
    "target_class_count = len(train_data[target].unique())-1 # cause binary, 0 doesn't count\n",
    "\n",
    "history, model = fnn_model(best_params['layer_size'], best_params['neuron_size'], \n",
    "                           best_params['epoch_size'], best_params['batch_size'], \n",
    "              layer_activation, output_activation, \n",
    "              feature_size, target_class_count,\n",
    "              train_data, target, test_data, best_params['learn_rate'])"
   ]
  },
  {
   "cell_type": "code",
   "execution_count": 116,
   "id": "247e51a5",
   "metadata": {},
   "outputs": [
    {
     "data": {
      "text/plain": [
       "0.8059413433074951"
      ]
     },
     "execution_count": 116,
     "metadata": {},
     "output_type": "execute_result"
    }
   ],
   "source": [
    "pd.Series(history.history['val_accuracy']).max()"
   ]
  },
  {
   "cell_type": "code",
   "execution_count": 117,
   "id": "cadcdda3",
   "metadata": {},
   "outputs": [
    {
     "name": "stdout",
     "output_type": "stream",
     "text": [
      "134/134 [==============================] - 0s 619us/step\n",
      "<class 'pandas.core.frame.DataFrame'>\n",
      "RangeIndex: 4277 entries, 0 to 4276\n",
      "Data columns (total 2 columns):\n",
      " #   Column       Non-Null Count  Dtype \n",
      "---  ------       --------------  ----- \n",
      " 0   PassengerId  4277 non-null   object\n",
      " 1   Transported  4277 non-null   bool  \n",
      "dtypes: bool(1), object(1)\n",
      "memory usage: 37.7+ KB\n"
     ]
    }
   ],
   "source": [
    "predictions = model.predict(test)\n",
    "output = pd.DataFrame({'PassengerId': test_id, 'Transported': predictions.squeeze()})\n",
    "# convert to boolean\n",
    "output[target] = (output[target] >= 0.5)\n",
    "output.info()"
   ]
  },
  {
   "cell_type": "code",
   "execution_count": 118,
   "id": "bb3a4c04",
   "metadata": {},
   "outputs": [],
   "source": [
    "output.to_csv('data/sample_submission.csv', index=False)"
   ]
  },
  {
   "cell_type": "code",
   "execution_count": null,
   "id": "605e6256",
   "metadata": {},
   "outputs": [],
   "source": []
  }
 ],
 "metadata": {
  "kernelspec": {
   "display_name": "Python 3 (ipykernel)",
   "language": "python",
   "name": "python3"
  },
  "language_info": {
   "codemirror_mode": {
    "name": "ipython",
    "version": 3
   },
   "file_extension": ".py",
   "mimetype": "text/x-python",
   "name": "python",
   "nbconvert_exporter": "python",
   "pygments_lexer": "ipython3",
   "version": "3.9.6"
  }
 },
 "nbformat": 4,
 "nbformat_minor": 5
}
