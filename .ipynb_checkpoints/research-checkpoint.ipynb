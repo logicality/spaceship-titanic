{
 "cells": [
  {
   "cell_type": "markdown",
   "id": "def0e6b8",
   "metadata": {},
   "source": [
    "#  Demo"
   ]
  },
  {
   "cell_type": "code",
   "execution_count": null,
   "id": "8f29d71c",
   "metadata": {},
   "outputs": [],
   "source": [
    "# standard libraries\n",
    "import pandas as pd\n",
    "import numpy as np\n",
    "\n",
    "# visualization libraries\n",
    "import matplotlib.pyplot as plt\n",
    "import seaborn as sns\n",
    "\n",
    "# decision tree\n",
    "from sklearn.tree import DecisionTreeClassifier\n",
    "from sklearn.metrics import accuracy_score\n",
    "from sklearn.model_selection import GridSearchCV\n",
    "\n",
    "# Set custom styles for text color\n",
    "plt.rcParams['text.color'] = 'white'\n",
    "plt.rcParams['axes.labelcolor'] = 'white'\n",
    "plt.rcParams['axes.titlecolor'] = 'white'\n",
    "plt.rcParams['xtick.color'] = 'white'  # Color of the x-axis tick values\n",
    "plt.rcParams['ytick.color'] = 'white'  # Color of the y-axis tick values\n",
    "\n",
    "train = pd.read_csv('data/train.csv')\n",
    "test = pd.read_csv('data/test.csv')\n",
    "submission = pd.read_csv('data/sample_submission.csv')"
   ]
  },
  {
   "cell_type": "code",
   "execution_count": null,
   "id": "b2cbea49",
   "metadata": {},
   "outputs": [],
   "source": [
    "train.head()"
   ]
  },
  {
   "cell_type": "code",
   "execution_count": null,
   "id": "e53df2c8",
   "metadata": {},
   "outputs": [],
   "source": [
    "train.info()"
   ]
  },
  {
   "cell_type": "code",
   "execution_count": null,
   "id": "392bab8d",
   "metadata": {},
   "outputs": [],
   "source": [
    "test.head()"
   ]
  },
  {
   "cell_type": "code",
   "execution_count": null,
   "id": "a3501c15",
   "metadata": {},
   "outputs": [],
   "source": [
    "test.info()"
   ]
  },
  {
   "cell_type": "code",
   "execution_count": null,
   "id": "afdbbc5f",
   "metadata": {},
   "outputs": [],
   "source": [
    "submission.head()"
   ]
  },
  {
   "cell_type": "code",
   "execution_count": null,
   "id": "84c6644b",
   "metadata": {},
   "outputs": [],
   "source": [
    "submission.info()"
   ]
  },
  {
   "cell_type": "code",
   "execution_count": null,
   "id": "752674af",
   "metadata": {},
   "outputs": [],
   "source": [
    "target = train.columns.to_list()[-1]\n",
    "train_target = train[target]"
   ]
  },
  {
   "cell_type": "code",
   "execution_count": null,
   "id": "ac10a641",
   "metadata": {},
   "outputs": [],
   "source": [
    "plt.figure(figsize=(8,4))\n",
    "sns.countplot(data = train, x = target, color='g')\n",
    "plt.title('Class distribution')\n",
    "plt.show()"
   ]
  },
  {
   "cell_type": "code",
   "execution_count": null,
   "id": "fc5d2507",
   "metadata": {},
   "outputs": [],
   "source": [
    "train.drop(target, axis=1, inplace=True)\n",
    "train_id = train['PassengerId']\n",
    "test_id = test['PassengerId']"
   ]
  },
  {
   "cell_type": "code",
   "execution_count": null,
   "id": "e0dc3007",
   "metadata": {},
   "outputs": [],
   "source": [
    "# combine over rows, keeping id for now as group number might be useful\n",
    "combined = pd.concat([train, test], axis = 0)"
   ]
  },
  {
   "cell_type": "markdown",
   "id": "b6c944f8",
   "metadata": {},
   "source": [
    "### Feature engineering"
   ]
  },
  {
   "cell_type": "code",
   "execution_count": null,
   "id": "681e26d6",
   "metadata": {},
   "outputs": [],
   "source": [
    "combined.info()"
   ]
  },
  {
   "cell_type": "code",
   "execution_count": null,
   "id": "e7ca193d",
   "metadata": {},
   "outputs": [],
   "source": [
    "combined"
   ]
  },
  {
   "cell_type": "code",
   "execution_count": null,
   "id": "201c9099",
   "metadata": {},
   "outputs": [],
   "source": [
    "combined['Group'] = combined['PassengerId'].str[:4]\n",
    "combined.drop('PassengerId', inplace=True, axis=1)"
   ]
  },
  {
   "cell_type": "code",
   "execution_count": null,
   "id": "604aea0e",
   "metadata": {},
   "outputs": [],
   "source": [
    "# categorical columns first\n",
    "col_cat_NA = ['HomePlanet', 'CryoSleep', 'Cabin', 'Destination', 'VIP']\n",
    "\n",
    "# fill with Group first\n",
    "for col in col_cat_NA:\n",
    "    combined[col] = combined.groupby('Group')[col].transform(\n",
    "    lambda x: x.fillna(x.mode()[0] if not x.mode().empty else np.nan))"
   ]
  },
  {
   "cell_type": "code",
   "execution_count": null,
   "id": "4d865487",
   "metadata": {},
   "outputs": [],
   "source": [
    "combined.info()"
   ]
  },
  {
   "cell_type": "code",
   "execution_count": null,
   "id": "8b81d50e",
   "metadata": {},
   "outputs": [],
   "source": [
    "# need to do this, so we can use homeplanet to fill values for destination\n",
    "combined['HomePlanet'].fillna('', inplace=True)\n",
    "combined['Destination'] = combined.groupby('HomePlanet')['Destination'].transform(\n",
    "    lambda x: x.fillna(x.mode()[0]))\n",
    "# reverse what we did earlier\n",
    "combined['HomePlanet'].replace('', np.nan, inplace=True)\n",
    "\n",
    "# now fill homeplanet with destination\n",
    "combined['HomePlanet'] = combined.groupby('Destination')['HomePlanet'].transform(\n",
    "    lambda x: x.fillna(x.mode()[0]))\n",
    "\n",
    "combined['CryoSleep'] = combined.groupby('Destination')['CryoSleep'].transform(\n",
    "    lambda x: x.fillna(x.mode()[0]))\n",
    "combined['VIP'].fillna(False, inplace=True)"
   ]
  },
  {
   "cell_type": "code",
   "execution_count": null,
   "id": "161a71b0",
   "metadata": {},
   "outputs": [],
   "source": [
    "# numerical columns now\n",
    "col_num_NA = ['RoomService', 'FoodCourt', 'ShoppingMall',\n",
    "             'Spa', 'VRDeck', 'Age']\n",
    "\n",
    "# fill with Group first\n",
    "for col in col_num_NA:\n",
    "    combined[col] = combined.groupby('Group')[col].transform(\n",
    "        lambda x: x.fillna(x.mean()))"
   ]
  },
  {
   "cell_type": "code",
   "execution_count": null,
   "id": "f34135f7",
   "metadata": {},
   "outputs": [],
   "source": [
    "combined.info()"
   ]
  },
  {
   "cell_type": "code",
   "execution_count": null,
   "id": "5c76f420",
   "metadata": {},
   "outputs": [],
   "source": [
    "# fill with destination now\n",
    "for col in col_num_NA:\n",
    "    combined[col] = combined.groupby('Destination')[col].transform(\n",
    "        lambda x: x.fillna(x.mean()))"
   ]
  },
  {
   "cell_type": "code",
   "execution_count": null,
   "id": "5f6ef870",
   "metadata": {},
   "outputs": [],
   "source": [
    "col = 'RoomService'\n",
    "plt.figure(figsize=(12,8))\n",
    "sns.displot(data=combined, x=col, color='g', kde=True)\n",
    "# plt.ylim(0,500)\n",
    "plt.show()"
   ]
  },
  {
   "cell_type": "code",
   "execution_count": null,
   "id": "fa23dbac",
   "metadata": {},
   "outputs": [],
   "source": [
    "# take log due to skewed distribution\n",
    "col_num_log = col_num_NA\n",
    "for col in col_num_log:\n",
    "    combined[col] = np.log1p(combined[col])\n",
    "    \n",
    "# adding new numerical features\n",
    "combined['TotalSpent'] = combined[['RoomService', 'FoodCourt', \n",
    "                                   'ShoppingMall','Spa', 'VRDeck']].sum(axis=1)\n",
    "\n",
    "# since the distribution is so skewed to 0s, this might help\n",
    "combined['moneySpent'] = (combined['TotalSpent']>0).astype(int)"
   ]
  },
  {
   "cell_type": "code",
   "execution_count": null,
   "id": "44597cb9",
   "metadata": {},
   "outputs": [],
   "source": [
    "col = 'RoomService'\n",
    "plt.figure(figsize=(12,8))\n",
    "sns.displot(data=combined, x=col, color='g', kde=True)\n",
    "plt.show()"
   ]
  },
  {
   "cell_type": "code",
   "execution_count": null,
   "id": "a5593b2f",
   "metadata": {},
   "outputs": [],
   "source": [
    "combined.info()"
   ]
  },
  {
   "cell_type": "code",
   "execution_count": null,
   "id": "52d9bdf9",
   "metadata": {},
   "outputs": [],
   "source": [
    "# need to break cabin down, this is screwing it up when the entire cabin isn't available\n",
    "combined[['deck', 'cabin_num', 'side']] = combined['Cabin'].str.split('/', expand=True)\n",
    "\n",
    "combined.drop('Cabin', inplace=True, axis=1)\n",
    "\n",
    "col_cat_na = ['deck', 'cabin_num', 'side']\n",
    "\n",
    "for col in col_cat_na:\n",
    "    combined[col] = combined.groupby('Destination')[col].transform(\n",
    "        lambda x: x.fillna(x.mode()[0]))\n",
    "combined['cabin_num'] = combined['cabin_num'].astype(int)"
   ]
  },
  {
   "cell_type": "code",
   "execution_count": null,
   "id": "63f1cc25",
   "metadata": {},
   "outputs": [],
   "source": [
    "# drop name\n",
    "combined.drop('Name', inplace=True, axis=1)"
   ]
  },
  {
   "cell_type": "code",
   "execution_count": null,
   "id": "f2fa1aa1",
   "metadata": {},
   "outputs": [],
   "source": [
    "combined['VIP'].unique()"
   ]
  },
  {
   "cell_type": "code",
   "execution_count": null,
   "id": "967f5469",
   "metadata": {},
   "outputs": [],
   "source": [
    "combined.info()"
   ]
  },
  {
   "cell_type": "code",
   "execution_count": null,
   "id": "58df1721",
   "metadata": {},
   "outputs": [],
   "source": [
    "# # one hot encoding\n",
    "combined = pd.get_dummies(combined, columns=['HomePlanet', 'Destination', 'deck', 'side'])\n",
    "\n",
    "combined['Group'] = combined['Group'].astype('int')"
   ]
  },
  {
   "cell_type": "code",
   "execution_count": null,
   "id": "adfdd8d6",
   "metadata": {},
   "outputs": [],
   "source": [
    "combined.info()"
   ]
  },
  {
   "cell_type": "code",
   "execution_count": null,
   "id": "d0338002",
   "metadata": {},
   "outputs": [],
   "source": [
    "combined.head()"
   ]
  },
  {
   "cell_type": "code",
   "execution_count": null,
   "id": "22d18e0b",
   "metadata": {},
   "outputs": [],
   "source": [
    "combined['VIP'] = combined['VIP'].astype(int)"
   ]
  },
  {
   "cell_type": "markdown",
   "id": "019d3909",
   "metadata": {},
   "source": [
    "### Model design"
   ]
  },
  {
   "cell_type": "code",
   "execution_count": null,
   "id": "9e284b92",
   "metadata": {},
   "outputs": [],
   "source": [
    "train = combined.iloc[:train_id.shape[0]]\n",
    "test = combined.iloc[-test_id.shape[0]:]\n",
    "train[target] = train_target\n",
    "print('Train shape', train.shape)\n",
    "print('Test shape', test.shape)"
   ]
  },
  {
   "cell_type": "code",
   "execution_count": null,
   "id": "80e88cc2",
   "metadata": {},
   "outputs": [],
   "source": [
    "# let's split train data into train/test\n",
    "def train_test_split(data, test_ratio=0.3):\n",
    "    test_indices = np.random.rand(data.shape[0]) < test_ratio\n",
    "    return data[~test_indices], data[test_indices]\n",
    "train_data, test_data = train_test_split(train)\n",
    "print('{} samples in training, {} samples in testing data'.format(train_data.shape[0], \n",
    "                                                            test_data.shape[0]))"
   ]
  },
  {
   "cell_type": "code",
   "execution_count": null,
   "id": "65624cb6",
   "metadata": {},
   "outputs": [],
   "source": [
    "train_data"
   ]
  },
  {
   "cell_type": "code",
   "execution_count": null,
   "id": "2d10c029",
   "metadata": {
    "scrolled": false
   },
   "outputs": [],
   "source": [
    "train_data.info()"
   ]
  },
  {
   "cell_type": "markdown",
   "id": "6ff5f4b3",
   "metadata": {},
   "source": [
    "Model: Decision Tree"
   ]
  },
  {
   "cell_type": "code",
   "execution_count": null,
   "id": "cc260d10",
   "metadata": {},
   "outputs": [],
   "source": [
    "dt_classifier = DecisionTreeClassifier()"
   ]
  },
  {
   "cell_type": "code",
   "execution_count": null,
   "id": "c0ece098",
   "metadata": {},
   "outputs": [],
   "source": [
    "# Define a parameter grid for grid search\n",
    "param_grid = {\n",
    "    'max_depth': np.arange(1, 11),  # Vary the max depth from 1 to 10\n",
    "    'max_leaf_nodes': np.arange(2, 21),  # Vary the max leaf nodes from 2 to 20\n",
    "}\n",
    "\n",
    "# Perform grid search with cross-validation, 5-folds, 5 subset for accuracy validation\n",
    "grid_search = GridSearchCV(dt_classifier, param_grid, cv=5)\n",
    "grid_search.fit(train_data.iloc[:, :-1], train_data[target])"
   ]
  },
  {
   "cell_type": "code",
   "execution_count": null,
   "id": "8ded5b8d",
   "metadata": {},
   "outputs": [],
   "source": [
    "# Get the best parameters from grid search\n",
    "best_params = grid_search.best_params_\n",
    "best_params"
   ]
  },
  {
   "cell_type": "code",
   "execution_count": null,
   "id": "231f6345",
   "metadata": {},
   "outputs": [],
   "source": [
    "# Train a decision tree classifier with the best parameters\n",
    "best_dt_classifier = DecisionTreeClassifier(max_depth=best_params['max_depth'], max_leaf_nodes=best_params['max_leaf_nodes'])\n",
    "best_dt_classifier.fit(train_data.iloc[:, :-1], train_data[target])"
   ]
  },
  {
   "cell_type": "code",
   "execution_count": null,
   "id": "a8555891",
   "metadata": {},
   "outputs": [],
   "source": [
    "# Make predictions on the test set\n",
    "y_pred = best_dt_classifier.predict(test_data.iloc[:, :-1])"
   ]
  },
  {
   "cell_type": "code",
   "execution_count": null,
   "id": "1f5c7932",
   "metadata": {},
   "outputs": [],
   "source": [
    "# Calculate accuracy on the test set\n",
    "accuracy = accuracy_score(test_data[target], y_pred)\n",
    "print(f'Accuracy on the test set: {accuracy}')"
   ]
  },
  {
   "cell_type": "code",
   "execution_count": null,
   "id": "262e329d",
   "metadata": {},
   "outputs": [],
   "source": []
  }
 ],
 "metadata": {
  "kernelspec": {
   "display_name": "Python 3 (ipykernel)",
   "language": "python",
   "name": "python3"
  },
  "language_info": {
   "codemirror_mode": {
    "name": "ipython",
    "version": 3
   },
   "file_extension": ".py",
   "mimetype": "text/x-python",
   "name": "python",
   "nbconvert_exporter": "python",
   "pygments_lexer": "ipython3",
   "version": "3.9.6"
  }
 },
 "nbformat": 4,
 "nbformat_minor": 5
}
